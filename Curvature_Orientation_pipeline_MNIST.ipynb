{
  "cells": [
    {
      "cell_type": "markdown",
      "metadata": {
        "id": "view-in-github",
        "colab_type": "text"
      },
      "source": [
        "<a href=\"https://colab.research.google.com/github/MN-21/handwriting-dnn-features/blob/main/Curvature_Orientation_pipeline_MNIST.ipynb\" target=\"_parent\"><img src=\"https://colab.research.google.com/assets/colab-badge.svg\" alt=\"Open In Colab\"/></a>"
      ]
    },
    {
      "cell_type": "code",
      "execution_count": null,
      "metadata": {
        "colab": {
          "base_uri": "https://localhost:8080/",
          "height": 1000,
          "referenced_widgets": [
            "3b40e46a2a0e462e8e98cce1b1a3dd2a",
            "b5a3ee01ab2145ecb0e114a4a7b5639e",
            "b4674b42a93e4ec7b16b0400dc889c11",
            "e4c0761a4f37424ebc67dfb5518c0ee6",
            "6f1fafc93e6c41828be664473dd9cf6d",
            "48f3093c91f847339baf0e1d8307fcc2",
            "e77700bdf7b245d89adcefeca4baa0a7",
            "3c60d2652958420a9026234110f23988",
            "b1e7a34f705b44d9baa7d59eb9263667",
            "519774ee93a2435eb50aec7b6eee178b",
            "e159234442344a2a921ce998e44e110a",
            "55024943116a4d63a6a5487a9c81f497",
            "118f1efd7dfd45acabcd4c8d176a3b8d",
            "cb4a663475c54bc59ed5526396b2638f",
            "6ed9692c28264f0ba359f827ee263a06",
            "82160fb0a1d2453ba515e896b740b6fd",
            "a41e7e55602846e5be130fe16a694a4a",
            "edad10f81f204f3086bd8d165dbe5617",
            "9890d716a8704b149d2eff43a60d47df",
            "82aa5007d3a742719de53e95e110cff7",
            "b97a20e1f7dd4b2bb4267ba7b2e746bb",
            "2a488eb39da14fbf9b9ff93873b8c503",
            "d2da8bb41c3346c6b9b1732c7b76ad37",
            "0f751e19956840968d6f7551156249ef",
            "25ac9005aaae4173bc9b98088317a942",
            "6ddd982f326b481195aaa728c089e0e4",
            "4c85ad4eb853469f92e7c7542624af8a",
            "9f64b47c98d94571ac55a83c5ec8c1b4",
            "ba1cd3777901480b9fd00efb662726bb",
            "3430742300db46f68facf2e0aaf7f4c4",
            "95d5a03c3dfb4138be7d8ae698acfd9a",
            "53cf9ca511db4aff8379a3f0eb33d65f",
            "033a6f51b249441a99c8878bd0370273",
            "68dc7b826aa547cfa8aac889d105b3ef",
            "499db246f2a247d693aa1062a2c5b7c3",
            "5ea2aaafee1f4d8e95ea7fdda0e49edd",
            "1a09b758f10f49568152c6d93f287c07",
            "3b7882ba569443fc82af962446343dc2",
            "e851704a00354420b59f5880b15a36f1",
            "f026e355261049b8b50b1ece2bcfe091",
            "1f2e76c782444d7c8480a992ea352af7",
            "899a85e485e64456a5ae79bfeb99db5f",
            "de46220ec83d44a3825a19b9c2aa21a5",
            "eaa21b58827d4de4aee553236df94b5a",
            "5585c08f9432468e9dee94d8093cdb02",
            "fafd472a911b4309b0a675e8d5b77809",
            "35bf99e1410f4041b28f641303c6a741",
            "834138d9e6bf4da8beb489779e026058",
            "202ba1fa7a034c3f9d5b39f4fcf3ba4f",
            "bae17c80b7824081825bb1e8d2b4e30b",
            "6e2e05722ce943ea818c28c2269b14ca",
            "c0337a8fd2e24a14b7eddeb80e5c569d",
            "66e330d7ce0e499489c6451c499a9ad2",
            "bb4a28df2cb04ccc884cde86aaf26587",
            "f2cb5991c79b4f43a17fab94313352e8",
            "5859f47b33de41a888653af33834846a",
            "55fb2ba745bb44d4bfd187cc5c68930b",
            "f1c60718a29d4e3ea70201996b6a1ba1",
            "751f163877a740ae95fa2a494fc0dce4",
            "0d6999214467461993681be59c015683",
            "a91a0f863da3492598139b2b499bd3b5",
            "ef33f936ca0d4f95a00ff43a629e65a5",
            "996ae7b8c19049c083dd37596a69e88c",
            "42ab8800d5ec45c8a0c073d49ec282b7",
            "bf20f8fed0cc476a89e4efed3429268d",
            "09e91096f9384b68b679e276c1211b4a",
            "aa0673d4b2604c6bb40e51a65aae1d88",
            "e98a2d42accf4dfb87b1f4b82df0b634",
            "9852bb53a54b450091781ed1008588c4",
            "1e08e4c171ba4e93aff0c42b551de4a6",
            "e95778dc917e44698fc8a9de02191a70",
            "54a6b7e8bf734b5da1c2cd52e8ac0d37",
            "0b4e2ff1066740bdab4023a2585639e9",
            "27493e1b222646c29922506d465c6fe8",
            "0a42fd9b9e0a45a2a2d1770b250ac7d1",
            "98004ce9152d4f73a5d518d1546ef7ea",
            "b4618be731b54b019a09ca8eae3b8348",
            "6a57489df01d41289ab49358ece78712",
            "eb18da02a6e0400a9b24639f3e660323",
            "212d5b03ef5547f1b908c3a4ae5b4f95",
            "57bf82b100904d1b8d353604cb708caf",
            "57e127e4d8354a1f9830ffbc3f4214c6",
            "50773535ed594b3e9493c0b835e8bb90",
            "6c476bcee48049529057f23da35e5342",
            "4595d6fb6f8843fba586f53d4ec517c7",
            "cb1887eb71cf4f9489356eb286c81a01",
            "74754ebd171c4fb580b0e0ef1d375b65",
            "4dedad35b08e44a6b392e41796ee163a"
          ]
        },
        "id": "IfF_NlzYtzPR",
        "outputId": "41f46ad7-460c-492a-d166-a799ee2907dc"
      },
      "outputs": [
        {
          "name": "stderr",
          "output_type": "stream",
          "text": [
            "WARNING:absl:Variant folder /root/tensorflow_datasets/mnist/3.0.1 has no dataset_info.json\n"
          ]
        },
        {
          "name": "stdout",
          "output_type": "stream",
          "text": [
            "Downloading and preparing dataset Unknown size (download: Unknown size, generated: Unknown size, total: Unknown size) to /root/tensorflow_datasets/mnist/3.0.1...\n"
          ]
        },
        {
          "data": {
            "application/vnd.jupyter.widget-view+json": {
              "model_id": "3b40e46a2a0e462e8e98cce1b1a3dd2a",
              "version_major": 2,
              "version_minor": 0
            },
            "text/plain": [
              "Dl Completed...: 0 url [00:00, ? url/s]"
            ]
          },
          "metadata": {},
          "output_type": "display_data"
        },
        {
          "data": {
            "application/vnd.jupyter.widget-view+json": {
              "model_id": "55024943116a4d63a6a5487a9c81f497",
              "version_major": 2,
              "version_minor": 0
            },
            "text/plain": [
              "Dl Size...: 0 MiB [00:00, ? MiB/s]"
            ]
          },
          "metadata": {},
          "output_type": "display_data"
        },
        {
          "data": {
            "application/vnd.jupyter.widget-view+json": {
              "model_id": "d2da8bb41c3346c6b9b1732c7b76ad37",
              "version_major": 2,
              "version_minor": 0
            },
            "text/plain": [
              "Extraction completed...: 0 file [00:00, ? file/s]"
            ]
          },
          "metadata": {},
          "output_type": "display_data"
        },
        {
          "data": {
            "application/vnd.jupyter.widget-view+json": {
              "model_id": "68dc7b826aa547cfa8aac889d105b3ef",
              "version_major": 2,
              "version_minor": 0
            },
            "text/plain": [
              "Generating splits...:   0%|          | 0/2 [00:00<?, ? splits/s]"
            ]
          },
          "metadata": {},
          "output_type": "display_data"
        },
        {
          "data": {
            "application/vnd.jupyter.widget-view+json": {
              "model_id": "5585c08f9432468e9dee94d8093cdb02",
              "version_major": 2,
              "version_minor": 0
            },
            "text/plain": [
              "Generating train examples...: 0 examples [00:00, ? examples/s]"
            ]
          },
          "metadata": {},
          "output_type": "display_data"
        },
        {
          "data": {
            "application/vnd.jupyter.widget-view+json": {
              "model_id": "5859f47b33de41a888653af33834846a",
              "version_major": 2,
              "version_minor": 0
            },
            "text/plain": [
              "Shuffling /root/tensorflow_datasets/mnist/incomplete.9JA32C_3.0.1/mnist-train.tfrecord*...:   0%|          | 0…"
            ]
          },
          "metadata": {},
          "output_type": "display_data"
        },
        {
          "data": {
            "application/vnd.jupyter.widget-view+json": {
              "model_id": "aa0673d4b2604c6bb40e51a65aae1d88",
              "version_major": 2,
              "version_minor": 0
            },
            "text/plain": [
              "Generating test examples...: 0 examples [00:00, ? examples/s]"
            ]
          },
          "metadata": {},
          "output_type": "display_data"
        },
        {
          "data": {
            "application/vnd.jupyter.widget-view+json": {
              "model_id": "6a57489df01d41289ab49358ece78712",
              "version_major": 2,
              "version_minor": 0
            },
            "text/plain": [
              "Shuffling /root/tensorflow_datasets/mnist/incomplete.9JA32C_3.0.1/mnist-test.tfrecord*...:   0%|          | 0/…"
            ]
          },
          "metadata": {},
          "output_type": "display_data"
        },
        {
          "name": "stdout",
          "output_type": "stream",
          "text": [
            "Dataset mnist downloaded and prepared to /root/tensorflow_datasets/mnist/3.0.1. Subsequent calls will reuse this data.\n"
          ]
        },
        {
          "name": "stderr",
          "output_type": "stream",
          "text": [
            "Extracting features: 100%|██████████| 56000/56000 [00:07<00:00, 7110.63it/s]\n",
            "Extracting features: 100%|██████████| 14000/14000 [00:02<00:00, 4745.28it/s]\n"
          ]
        },
        {
          "name": "stdout",
          "output_type": "stream",
          "text": [
            "Epoch 1/100\n",
            "394/394 - 81s - 206ms/step - accuracy: 0.8545 - loss: 0.4611 - val_accuracy: 0.9443 - val_loss: 0.1851 - learning_rate: 1.0000e-03\n",
            "Epoch 2/100\n",
            "394/394 - 80s - 204ms/step - accuracy: 0.9423 - loss: 0.1881 - val_accuracy: 0.9479 - val_loss: 0.1662 - learning_rate: 1.0000e-03\n",
            "Epoch 3/100\n",
            "394/394 - 81s - 206ms/step - accuracy: 0.9589 - loss: 0.1305 - val_accuracy: 0.9563 - val_loss: 0.1438 - learning_rate: 1.0000e-03\n",
            "Epoch 4/100\n",
            "394/394 - 81s - 206ms/step - accuracy: 0.9678 - loss: 0.1022 - val_accuracy: 0.9573 - val_loss: 0.1493 - learning_rate: 1.0000e-03\n",
            "Epoch 5/100\n",
            "394/394 - 75s - 190ms/step - accuracy: 0.9729 - loss: 0.0857 - val_accuracy: 0.9570 - val_loss: 0.1406 - learning_rate: 1.0000e-03\n",
            "Epoch 6/100\n",
            "394/394 - 82s - 209ms/step - accuracy: 0.9776 - loss: 0.0676 - val_accuracy: 0.9602 - val_loss: 0.1470 - learning_rate: 1.0000e-03\n",
            "Epoch 7/100\n",
            "394/394 - 84s - 214ms/step - accuracy: 0.9800 - loss: 0.0615 - val_accuracy: 0.9609 - val_loss: 0.1435 - learning_rate: 1.0000e-03\n",
            "Epoch 8/100\n",
            "394/394 - 80s - 204ms/step - accuracy: 0.9818 - loss: 0.0550 - val_accuracy: 0.9614 - val_loss: 0.1461 - learning_rate: 1.0000e-03\n",
            "Epoch 9/100\n",
            "\n",
            "Epoch 9: ReduceLROnPlateau reducing learning rate to 0.0005000000237487257.\n",
            "394/394 - 83s - 210ms/step - accuracy: 0.9842 - loss: 0.0473 - val_accuracy: 0.9646 - val_loss: 0.1474 - learning_rate: 1.0000e-03\n",
            "Epoch 10/100\n",
            "394/394 - 79s - 199ms/step - accuracy: 0.9905 - loss: 0.0284 - val_accuracy: 0.9688 - val_loss: 0.1320 - learning_rate: 5.0000e-04\n",
            "Epoch 11/100\n",
            "394/394 - 75s - 190ms/step - accuracy: 0.9928 - loss: 0.0211 - val_accuracy: 0.9704 - val_loss: 0.1320 - learning_rate: 5.0000e-04\n",
            "Epoch 12/100\n",
            "394/394 - 83s - 210ms/step - accuracy: 0.9934 - loss: 0.0184 - val_accuracy: 0.9688 - val_loss: 0.1367 - learning_rate: 5.0000e-04\n",
            "Epoch 13/100\n",
            "394/394 - 77s - 195ms/step - accuracy: 0.9935 - loss: 0.0196 - val_accuracy: 0.9691 - val_loss: 0.1390 - learning_rate: 5.0000e-04\n",
            "Epoch 14/100\n",
            "\n",
            "Epoch 14: ReduceLROnPlateau reducing learning rate to 0.0002500000118743628.\n",
            "394/394 - 80s - 204ms/step - accuracy: 0.9943 - loss: 0.0168 - val_accuracy: 0.9693 - val_loss: 0.1472 - learning_rate: 5.0000e-04\n",
            "Epoch 15/100\n",
            "394/394 - 82s - 209ms/step - accuracy: 0.9957 - loss: 0.0128 - val_accuracy: 0.9712 - val_loss: 0.1340 - learning_rate: 2.5000e-04\n",
            "Epoch 16/100\n",
            "394/394 - 85s - 217ms/step - accuracy: 0.9968 - loss: 0.0099 - val_accuracy: 0.9730 - val_loss: 0.1311 - learning_rate: 2.5000e-04\n",
            "Epoch 17/100\n",
            "394/394 - 79s - 199ms/step - accuracy: 0.9966 - loss: 0.0100 - val_accuracy: 0.9739 - val_loss: 0.1289 - learning_rate: 2.5000e-04\n",
            "Epoch 18/100\n",
            "394/394 - 82s - 209ms/step - accuracy: 0.9971 - loss: 0.0086 - val_accuracy: 0.9723 - val_loss: 0.1386 - learning_rate: 2.5000e-04\n",
            "Epoch 19/100\n",
            "394/394 - 80s - 204ms/step - accuracy: 0.9973 - loss: 0.0076 - val_accuracy: 0.9716 - val_loss: 0.1382 - learning_rate: 2.5000e-04\n",
            "Epoch 20/100\n",
            "394/394 - 82s - 207ms/step - accuracy: 0.9971 - loss: 0.0086 - val_accuracy: 0.9714 - val_loss: 0.1394 - learning_rate: 2.5000e-04\n",
            "Epoch 21/100\n",
            "\n",
            "Epoch 21: ReduceLROnPlateau reducing learning rate to 0.0001250000059371814.\n",
            "394/394 - 82s - 209ms/step - accuracy: 0.9971 - loss: 0.0085 - val_accuracy: 0.9707 - val_loss: 0.1483 - learning_rate: 2.5000e-04\n",
            "Epoch 22/100\n",
            "394/394 - 83s - 211ms/step - accuracy: 0.9976 - loss: 0.0070 - val_accuracy: 0.9718 - val_loss: 0.1389 - learning_rate: 1.2500e-04\n",
            "Epoch 23/100\n",
            "394/394 - 83s - 209ms/step - accuracy: 0.9980 - loss: 0.0066 - val_accuracy: 0.9714 - val_loss: 0.1383 - learning_rate: 1.2500e-04\n",
            "Epoch 24/100\n",
            "394/394 - 80s - 204ms/step - accuracy: 0.9983 - loss: 0.0053 - val_accuracy: 0.9712 - val_loss: 0.1373 - learning_rate: 1.2500e-04\n",
            "Epoch 25/100\n",
            "\n",
            "Epoch 25: ReduceLROnPlateau reducing learning rate to 6.25000029685907e-05.\n",
            "394/394 - 83s - 211ms/step - accuracy: 0.9980 - loss: 0.0055 - val_accuracy: 0.9721 - val_loss: 0.1406 - learning_rate: 1.2500e-04\n",
            "Epoch 25: early stopping\n",
            "Restoring model weights from the end of the best epoch: 17.\n",
            "438/438 - 8s - 19ms/step - accuracy: 0.9720 - loss: 0.1470\n",
            "\n",
            "Improved Curvature+Orientation MLP on MNIST\n",
            "Test Accuracy   : 97.20%\n",
            "Training Time   : 2024.6s\n",
            "Inference Time  : 10.4s for 14000 samples\n"
          ]
        }
      ],
      "source": [
        "# Install dependencies\n",
        "!pip install --quiet tensorflow tensorflow-datasets opencv-python tqdm scikit-learn\n",
        "\n",
        "import cv2\n",
        "import time\n",
        "import numpy as np\n",
        "import tensorflow as tf\n",
        "import tensorflow_datasets as tfds\n",
        "from sklearn.model_selection import train_test_split\n",
        "from sklearn.preprocessing import StandardScaler\n",
        "from tensorflow.keras import layers, models, callbacks\n",
        "from tqdm import tqdm\n",
        "\n",
        "# 1. Extract curvature and gradient orientation\n",
        "def extract_curv_and_orientation(images):\n",
        "    N = images.shape[0]\n",
        "    curv_abs   = np.zeros((N,28,28), dtype=np.float32)\n",
        "    curv_sign  = np.zeros((N,28,28), dtype=np.float32)\n",
        "    orient_map = np.zeros((N,28,28), dtype=np.float32)\n",
        "    for i, img in enumerate(tqdm(images, desc=\"Extracting features\")):\n",
        "        gx  = cv2.Sobel(img, cv2.CV_32F, 1, 0, ksize=3)\n",
        "        gy  = cv2.Sobel(img, cv2.CV_32F, 0, 1, ksize=3)\n",
        "        fxx = cv2.Sobel(img, cv2.CV_32F, 2, 0, ksize=3)\n",
        "        fyy = cv2.Sobel(img, cv2.CV_32F, 0, 2, ksize=3)\n",
        "        fxy = cv2.Sobel(img, cv2.CV_32F, 1, 1, ksize=3)\n",
        "        num   = fxx * gy**2 - 2*fxy * gx * gy + fyy * gx**2\n",
        "        denom = (gx**2 + gy**2 + 1e-8)**1.5\n",
        "        k     = num / (denom + 1e-8)\n",
        "        k_abs = np.abs(k)\n",
        "        if k_abs.max() > 0:\n",
        "            k_abs /= k_abs.max()\n",
        "        curv_abs[i]  = k_abs\n",
        "        curv_sign[i] = np.sign(k)\n",
        "        theta = np.arctan2(gy, gx)\n",
        "        orient_map[i] = (theta + np.pi) / (2*np.pi)\n",
        "    return curv_abs, curv_sign, orient_map\n",
        "\n",
        "# 2. Load & combine MNIST via TFDS\n",
        "(ds_train, ds_test), ds_info = tfds.load(\n",
        "    'mnist',\n",
        "    split=['train', 'test'],        # train/test splits :contentReference[oaicite:0]{index=0}\n",
        "    as_supervised=True,\n",
        "    with_info=True\n",
        ")\n",
        "imgs, lbls = [], []\n",
        "for img, lbl in tfds.as_numpy(ds_train.concatenate(ds_test)):\n",
        "    imgs.append(img.squeeze())      # shape (28,28)\n",
        "    lbls.append(int(lbl))           # labels 0–9\n",
        "imgs = np.stack(imgs)               # (70000,28,28)\n",
        "lbls = np.array(lbls, dtype=int)\n",
        "\n",
        "# 3. Stratified 80/20 train/test split\n",
        "X_train, X_test, y_train, y_test = train_test_split(\n",
        "    imgs, lbls,\n",
        "    train_size=0.8,\n",
        "    stratify=lbls,                  # balanced classes :contentReference[oaicite:1]{index=1}\n",
        "    random_state=42\n",
        ")\n",
        "\n",
        "# 4. Compute features\n",
        "curv_abs_tr, curv_sign_tr, orient_tr = extract_curv_and_orientation(X_train)\n",
        "curv_abs_te,  curv_sign_te,  orient_te  = extract_curv_and_orientation(X_test)\n",
        "\n",
        "# 5. Flatten & stack (3×784 = 2352 dims)\n",
        "def stack_flatten(a, s, o):\n",
        "    N = a.shape[0]\n",
        "    return np.hstack([a.reshape(N,-1), s.reshape(N,-1), o.reshape(N,-1)])\n",
        "X_train_feat = stack_flatten(curv_abs_tr, curv_sign_tr, orient_tr)\n",
        "X_test_feat  = stack_flatten(curv_abs_te,  curv_sign_te,  orient_te)\n",
        "\n",
        "# 6. Standardize features\n",
        "#scaler = StandardScaler()\n",
        "#X_train_feat = scaler.fit_transform(X_train_feat)\n",
        "#X_test_feat  = scaler.transform(X_test_feat)\n",
        "\n",
        "# 7. Build MLP model (input dim = 2352, output = 10 classes)\n",
        "model = models.Sequential([\n",
        "    layers.Input(shape=(2352,)),\n",
        "    layers.Dense(2048), layers.BatchNormalization(), layers.Activation('relu'), layers.Dropout(0.5),\n",
        "    layers.Dense(1024), layers.BatchNormalization(), layers.Activation('relu'), layers.Dropout(0.5),\n",
        "    layers.Dense(512),  layers.BatchNormalization(), layers.Activation('relu'), layers.Dropout(0.4),\n",
        "    layers.Dense(256),  layers.BatchNormalization(), layers.Activation('relu'), layers.Dropout(0.3),\n",
        "    layers.Dense(10, activation='softmax')\n",
        "])\n",
        "\n",
        "# 8. Compile\n",
        "model.compile(\n",
        "    optimizer=tf.keras.optimizers.Adam(learning_rate=1e-3),\n",
        "    loss='sparse_categorical_crossentropy',\n",
        "    metrics=['accuracy']\n",
        ")\n",
        "\n",
        "# 9. Callbacks\n",
        "es  = callbacks.EarlyStopping(monitor='val_accuracy', patience=8, restore_best_weights=True, verbose=1)\n",
        "rlr = callbacks.ReduceLROnPlateau(monitor='val_loss', factor=0.5, patience=4, min_lr=1e-6, verbose=1)\n",
        "\n",
        "# 10. Train\n",
        "t0 = time.time()\n",
        "history = model.fit(\n",
        "    X_train_feat, y_train,\n",
        "    validation_split=0.1,\n",
        "    epochs=100,\n",
        "    batch_size=128,\n",
        "    callbacks=[es, rlr],\n",
        "    verbose=2\n",
        ")\n",
        "train_time = time.time() - t0\n",
        "\n",
        "# 11. Evaluate & report\n",
        "t1 = time.time()\n",
        "loss, acc  = model.evaluate(X_test_feat, y_test, verbose=2)\n",
        "infer_time = time.time() - t1\n",
        "\n",
        "print(f\"\\nImproved Curvature+Orientation MLP on MNIST\")\n",
        "print(f\"Test Accuracy   : {acc*100:.2f}%\")\n",
        "print(f\"Training Time   : {train_time:.1f}s\")\n",
        "print(f\"Inference Time  : {infer_time:.1f}s for {X_test_feat.shape[0]} samples\")\n"
      ]
    }
  ],
  "metadata": {
    "colab": {
      "provenance": [],
      "include_colab_link": true
    },
    "kernelspec": {
      "display_name": "Python 3",
      "name": "python3"
    },
    "language_info": {
      "name": "python"
    }
  },
  "nbformat": 4,
  "nbformat_minor": 0
}