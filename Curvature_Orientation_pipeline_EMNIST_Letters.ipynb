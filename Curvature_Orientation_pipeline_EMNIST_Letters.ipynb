{
  "cells": [
    {
      "cell_type": "markdown",
      "metadata": {
        "id": "view-in-github",
        "colab_type": "text"
      },
      "source": [
        "<a href=\"https://colab.research.google.com/github/MN-21/handwriting-dnn-features/blob/main/Curvature_Orientation_pipeline_EMNIST_Letters.ipynb\" target=\"_parent\"><img src=\"https://colab.research.google.com/assets/colab-badge.svg\" alt=\"Open In Colab\"/></a>"
      ]
    },
    {
      "cell_type": "code",
      "execution_count": null,
      "metadata": {
        "colab": {
          "base_uri": "https://localhost:8080/",
          "height": 236,
          "referenced_widgets": [
            "4aa45200d40f4bdc923a791c3f1c90f2",
            "25bb92f425dd4739914b7e7c02475e07",
            "e426daf82a5142b3a6f22fc287e0d22b",
            "23f97cfe60644e16913d75de6587da6b",
            "563c54c7bdd54536802fe7ae54d6426f",
            "84147fc192e7444c95b2cf74c461681a",
            "169522bde1fb48b585888bf385fe1d8f",
            "62fa041e766a4561adf50d26c7720a2d",
            "35503b09f65b450f8aa8ae12af2468f3",
            "9b80beb188a3437dac54625473b610c1",
            "3a46aec718ca4c5ea7b849918fef1bcc",
            "c0e06b491ed54dc1bee754ec972b7821",
            "85806aef02d142059e6a530f8e706ff4",
            "92aea11276694296a45a4db1bb5456fe",
            "33bf2d1279de435abc5f625b6ea9b453",
            "714cfb23939040a9a359f32d5b9cc7c1",
            "02978c9ca0fc4872bac62b172a0431aa",
            "091b68ceaa354a20bd50f427736e0b6c",
            "f3011412694a49bd8136f351ba2a1f92",
            "94e391c3825944c18f377ed48d8f7f1c",
            "d2370a4ee0204b1fbe90f2acdbfc189a",
            "4f403b36cebb476da823697520728a98",
            "99bfe9d9126448a1903140af4567b3ae",
            "36df6cab412944c6b08a9b3ba3f7f5de",
            "9f1f548c1db94d71a4ecee2b72b8dac2",
            "c849202593514e129c66a9c9e284a120",
            "824f95730f924cf68ed7cb15d1f81632",
            "f7a125ee2545481d82669328a8bd4d31",
            "7172e06fe85f432aa2659398587990df",
            "9697e9e6caf942c0b4512e75cafec55b",
            "ae8e4ac5a013437d826de47480f88a20",
            "8c20a91d8d7b425db779c4bd22f70f40",
            "1ce5ccb067234af79783dbaa15d5c240",
            "c30a31d26c9e447fbaac822520a4795a",
            "66416119cddd44e0899450e2091a913b",
            "e12df33fcc7e4acab4e53854db096eb4",
            "b130d800433d4811812e2ed371deb918",
            "1227d3caab6f4484997d5132c245ec4b",
            "e59fbf551ca8422cbe4c2fd7ed00548a",
            "122ffbc49c454827ac4ab80e6fdeb573",
            "1732ea343d7947b28ee66f7dc4277bad",
            "834b135453b94ab688d289bfd29690b1",
            "4646f3a8c5454e1ab9fadceb5a9a7f4a",
            "dd4757b141ef4593968ade1213ebf91d",
            "8dc1e5746dce41c6a715f9f8010b1549",
            "81ebd4fef5a842b5887f67a21ef4fddc",
            "dc568cbf34ab4515a1e19045c863330b",
            "1c4630b8537845769a4d9ef6eabaebaa",
            "8f8bd4e3cbd3446688a5db7ae9daae07",
            "3756266e1bc349fd832cfa57bc56acc9",
            "9465208726a241a39fe475e2136aefd9",
            "7ec920ce451f4393bb66452eb6e228d9",
            "18a10b2a220145a5b53c45ab23e36699",
            "7a8de80a324a4ec3821fb324f84aaefe",
            "2b8f3e9318324cffbedc1607edac3d3a",
            "95bad603d2d34a04bd9502bd4609aac1",
            "0040021dcddc41ae89a4b516ac9bfb55",
            "56863e70420d494bafd5f14dd85f1a73",
            "a6cb40eeed974527ba55c426a1e3eeb9",
            "f53d044c74b24060abbdd8070204cde9",
            "ed502b9dd8ad44c1a91b16f4eece9ea1",
            "5b6630d7c23f44faa8914f4cbc12de07",
            "f918f831858b444a94510060b929630c",
            "8a43f4302461490a86dd2ee3dbc520c1",
            "a43677bb39d540acad2b29d05bbc576c",
            "7967745b11cb4fc8b5280527150b0de7",
            "761ff1293b45472a983d431599d573c3",
            "dcff9ee59e544698a337b2bfd21b7677",
            "4a8dd936f7134ee6a8e26586885291df",
            "6bd368da8e644a5aa7870c878bacf3c9",
            "b859eca422bc4fac903f8f7675db5076",
            "d43f234f3b254cd38268d2d65ffc2f2f",
            "bd5420a404e142338bf6ceb6879c6e2e",
            "2ae8d3bc41be44cebceadc806702971d",
            "dd61979dced14284b6e1179462512411",
            "f5bb3711890d40cb872b5f1520cd3290",
            "0496014a203441da89fc168aa20e48b1",
            "8688e324787242a386cfb84ad05707c3",
            "2287677df7b0412c822fcdf70ba9df73",
            "ae7340f575954fdaa838fa093ff49ed4",
            "6e45c68a343442bdafe9f64343ac76ab",
            "557d0e02b3854c60866985c524d60082",
            "2f1b77356b704da387137bfff03b9f09",
            "eee89bf400b3420f8a64fc27b8d0bb67",
            "2742c9f009bb4cadb520834aecc00fde",
            "5d28e52f42924ec3ab6492455a2b0a72",
            "864da64fd7ae49569819049963d04756",
            "2ff07c2ad22a4b149d0d857dddb723cf",
            "56690174e81f451b98f062f3b61a46e4",
            "976dd6e9b0e04869911bcb584734e8ef",
            "0f469cad7c1f4c0894994ee8674a7a0d",
            "9ab307be20f442e88ca7574b8eabbe9a",
            "63e646f870be44b7b4cd8e6d97aceab8",
            "3814038378bc4a2aadb4907eb205b294",
            "496676cf4e35467ca6de7bf6f1a6e305",
            "c5bebe0f2b394365b11815e1e2639e58",
            "e1ab7efdc73f4845be99bce8f6844d01",
            "10b95029e1c34446a9e0412053aac9a7",
            "d007520d93914d21a2e21f1748c65638"
          ]
        },
        "id": "7F3qBvnXtKWC",
        "outputId": "d4a8bee7-e80e-4758-9305-f85e06de884c"
      },
      "outputs": [
        {
          "name": "stderr",
          "output_type": "stream",
          "text": [
            "WARNING:absl:Variant folder /root/tensorflow_datasets/emnist/letters/3.1.0 has no dataset_info.json\n"
          ]
        },
        {
          "name": "stdout",
          "output_type": "stream",
          "text": [
            "Downloading and preparing dataset Unknown size (download: Unknown size, generated: Unknown size, total: Unknown size) to /root/tensorflow_datasets/emnist/letters/3.1.0...\n"
          ]
        },
        {
          "data": {
            "application/vnd.jupyter.widget-view+json": {
              "model_id": "4aa45200d40f4bdc923a791c3f1c90f2",
              "version_major": 2,
              "version_minor": 0
            },
            "text/plain": [
              "Dl Completed...: 0 url [00:00, ? url/s]"
            ]
          },
          "metadata": {},
          "output_type": "display_data"
        },
        {
          "data": {
            "application/vnd.jupyter.widget-view+json": {
              "model_id": "c0e06b491ed54dc1bee754ec972b7821",
              "version_major": 2,
              "version_minor": 0
            },
            "text/plain": [
              "Dl Size...: 0 MiB [00:00, ? MiB/s]"
            ]
          },
          "metadata": {},
          "output_type": "display_data"
        },
        {
          "data": {
            "application/vnd.jupyter.widget-view+json": {
              "model_id": "99bfe9d9126448a1903140af4567b3ae",
              "version_major": 2,
              "version_minor": 0
            },
            "text/plain": [
              "Extraction completed...: 0 file [00:00, ? file/s]"
            ]
          },
          "metadata": {},
          "output_type": "display_data"
        },
        {
          "data": {
            "application/vnd.jupyter.widget-view+json": {
              "model_id": "c30a31d26c9e447fbaac822520a4795a",
              "version_major": 2,
              "version_minor": 0
            },
            "text/plain": [
              "Extraction completed...: 0 file [00:00, ? file/s]"
            ]
          },
          "metadata": {},
          "output_type": "display_data"
        },
        {
          "data": {
            "application/vnd.jupyter.widget-view+json": {
              "model_id": "8dc1e5746dce41c6a715f9f8010b1549",
              "version_major": 2,
              "version_minor": 0
            },
            "text/plain": [
              "Generating splits...:   0%|          | 0/2 [00:00<?, ? splits/s]"
            ]
          },
          "metadata": {},
          "output_type": "display_data"
        },
        {
          "data": {
            "application/vnd.jupyter.widget-view+json": {
              "model_id": "95bad603d2d34a04bd9502bd4609aac1",
              "version_major": 2,
              "version_minor": 0
            },
            "text/plain": [
              "Generating train examples...: 0 examples [00:00, ? examples/s]"
            ]
          },
          "metadata": {},
          "output_type": "display_data"
        },
        {
          "data": {
            "application/vnd.jupyter.widget-view+json": {
              "model_id": "761ff1293b45472a983d431599d573c3",
              "version_major": 2,
              "version_minor": 0
            },
            "text/plain": [
              "Shuffling /root/tensorflow_datasets/emnist/letters/incomplete.9OSYMD_3.1.0/emnist-train.tfrecord*...:   0%|   …"
            ]
          },
          "metadata": {},
          "output_type": "display_data"
        },
        {
          "data": {
            "application/vnd.jupyter.widget-view+json": {
              "model_id": "8688e324787242a386cfb84ad05707c3",
              "version_major": 2,
              "version_minor": 0
            },
            "text/plain": [
              "Generating test examples...: 0 examples [00:00, ? examples/s]"
            ]
          },
          "metadata": {},
          "output_type": "display_data"
        },
        {
          "data": {
            "application/vnd.jupyter.widget-view+json": {
              "model_id": "56690174e81f451b98f062f3b61a46e4",
              "version_major": 2,
              "version_minor": 0
            },
            "text/plain": [
              "Shuffling /root/tensorflow_datasets/emnist/letters/incomplete.9OSYMD_3.1.0/emnist-test.tfrecord*...:   0%|    …"
            ]
          },
          "metadata": {},
          "output_type": "display_data"
        },
        {
          "name": "stdout",
          "output_type": "stream",
          "text": [
            "Dataset emnist downloaded and prepared to /root/tensorflow_datasets/emnist/letters/3.1.0. Subsequent calls will reuse this data.\n"
          ]
        },
        {
          "name": "stderr",
          "output_type": "stream",
          "text": [
            "Extracting features: 100%|██████████| 82880/82880 [00:11<00:00, 7160.40it/s]\n",
            "Extracting features: 100%|██████████| 20720/20720 [00:02<00:00, 7704.10it/s]\n"
          ]
        }
      ],
      "source": [
        "# Install dependencies\n",
        "!pip install --quiet tensorflow tensorflow-datasets opencv-python tqdm scikit-learn\n",
        "\n",
        "import cv2\n",
        "import time\n",
        "import numpy as np\n",
        "import tensorflow as tf\n",
        "import tensorflow_datasets as tfds\n",
        "from sklearn.model_selection import train_test_split\n",
        "from tensorflow.keras import layers, models, callbacks, regularizers\n",
        "from tqdm import tqdm\n",
        "\n",
        "# 1. Extract curvature and gradient orientation (unchanged)\n",
        "def extract_curv_and_orientation(images):\n",
        "    N = images.shape[0]\n",
        "    curv_abs   = np.zeros((N,28,28), dtype=np.float32)\n",
        "    curv_sign  = np.zeros((N,28,28), dtype=np.float32)\n",
        "    orient_map = np.zeros((N,28,28), dtype=np.float32)\n",
        "    for i, img in enumerate(tqdm(images, desc=\"Extracting features\")):\n",
        "        gx  = cv2.Sobel(img, cv2.CV_32F, 1, 0, ksize=3)\n",
        "        gy  = cv2.Sobel(img, cv2.CV_32F, 0, 1, ksize=3)\n",
        "        fxx = cv2.Sobel(img, cv2.CV_32F, 2, 0, ksize=3)\n",
        "        fyy = cv2.Sobel(img, cv2.CV_32F, 0, 2, ksize=3)\n",
        "        fxy = cv2.Sobel(img, cv2.CV_32F, 1, 1, ksize=3)\n",
        "        num   = fxx * gy**2 - 2*fxy * gx * gy + fyy * gx**2\n",
        "        denom = (gx**2 + gy**2 + 1e-8)**1.5\n",
        "        k     = num / (denom + 1e-8)\n",
        "        k_abs = np.abs(k)\n",
        "        if k_abs.max() > 0:\n",
        "            k_abs /= k_abs.max()\n",
        "        curv_abs[i]  = k_abs\n",
        "        curv_sign[i] = np.sign(k)\n",
        "        theta = np.arctan2(gy, gx)\n",
        "        orient_map[i] = (theta + np.pi) / (2*np.pi)\n",
        "    return curv_abs, curv_sign, orient_map\n",
        "\n",
        "# 2. Load & combine EMNIST Letters\n",
        "(ds_train, ds_test), _ = tfds.load(\n",
        "    'emnist/letters',\n",
        "    split=['train','test'],\n",
        "    as_supervised=True,\n",
        "    with_info=True\n",
        ")\n",
        "imgs, lbls = [], []\n",
        "for img, lbl in tfds.as_numpy(ds_train.concatenate(ds_test)):\n",
        "    imgs.append(img.squeeze())\n",
        "    lbls.append(int(lbl) - 1)\n",
        "imgs = np.stack(imgs)\n",
        "lbls = np.array(lbls)\n",
        "\n",
        "# 3. Stratified 80/20 split\n",
        "X_train, X_test, y_train, y_test = train_test_split(\n",
        "    imgs, lbls, train_size=0.8,\n",
        "    stratify=lbls, random_state=42\n",
        ")\n",
        "\n",
        "# 4. Compute features\n",
        "curv_abs_tr, curv_sign_tr, orient_tr = extract_curv_and_orientation(X_train)\n",
        "curv_abs_te,  curv_sign_te,  orient_te  = extract_curv_and_orientation(X_test)\n",
        "\n",
        "# 5. Flatten & stack (3×784 = 2352 dims)\n",
        "def stack_flatten(a, s, o):\n",
        "    N = a.shape[0]\n",
        "    return np.hstack([a.reshape(N,-1), s.reshape(N,-1), o.reshape(N,-1)])\n",
        "X_train_feat = stack_flatten(curv_abs_tr, curv_sign_tr, orient_tr)\n",
        "X_test_feat  = stack_flatten(curv_abs_te,  curv_sign_te,  orient_te)\n",
        "\n",
        "\n"
      ]
    },
    {
      "cell_type": "code",
      "execution_count": null,
      "metadata": {
        "colab": {
          "base_uri": "https://localhost:8080/"
        },
        "id": "x-zHzA05QMW7",
        "outputId": "e256c8f7-7072-4ff2-fecd-ba8ce09aab3e"
      },
      "outputs": [
        {
          "name": "stdout",
          "output_type": "stream",
          "text": [
            "Epoch 1/100\n",
            "583/583 - 116s - 200ms/step - accuracy: 0.6061 - loss: 1.3053 - val_accuracy: 0.7353 - val_loss: 0.8014 - learning_rate: 1.0000e-03\n",
            "Epoch 2/100\n",
            "583/583 - 132s - 226ms/step - accuracy: 0.7758 - loss: 0.7025 - val_accuracy: 0.8266 - val_loss: 0.5306 - learning_rate: 1.0000e-03\n",
            "Epoch 3/100\n",
            "583/583 - 104s - 178ms/step - accuracy: 0.8195 - loss: 0.5610 - val_accuracy: 0.8516 - val_loss: 0.4492 - learning_rate: 1.0000e-03\n",
            "Epoch 4/100\n",
            "583/583 - 142s - 244ms/step - accuracy: 0.8458 - loss: 0.4696 - val_accuracy: 0.8618 - val_loss: 0.4110 - learning_rate: 1.0000e-03\n",
            "Epoch 5/100\n",
            "583/583 - 142s - 244ms/step - accuracy: 0.8614 - loss: 0.4193 - val_accuracy: 0.8657 - val_loss: 0.4101 - learning_rate: 1.0000e-03\n",
            "Epoch 6/100\n",
            "583/583 - 140s - 240ms/step - accuracy: 0.8748 - loss: 0.3690 - val_accuracy: 0.8702 - val_loss: 0.4032 - learning_rate: 1.0000e-03\n",
            "Epoch 7/100\n",
            "583/583 - 142s - 244ms/step - accuracy: 0.8879 - loss: 0.3313 - val_accuracy: 0.8745 - val_loss: 0.3925 - learning_rate: 1.0000e-03\n",
            "Epoch 8/100\n",
            "583/583 - 106s - 181ms/step - accuracy: 0.8956 - loss: 0.3030 - val_accuracy: 0.8766 - val_loss: 0.3899 - learning_rate: 1.0000e-03\n",
            "Epoch 9/100\n",
            "583/583 - 141s - 242ms/step - accuracy: 0.9038 - loss: 0.2754 - val_accuracy: 0.8774 - val_loss: 0.3946 - learning_rate: 1.0000e-03\n",
            "Epoch 10/100\n",
            "583/583 - 143s - 246ms/step - accuracy: 0.9138 - loss: 0.2475 - val_accuracy: 0.8832 - val_loss: 0.3961 - learning_rate: 1.0000e-03\n",
            "Epoch 11/100\n",
            "583/583 - 105s - 179ms/step - accuracy: 0.9188 - loss: 0.2314 - val_accuracy: 0.8795 - val_loss: 0.4050 - learning_rate: 1.0000e-03\n",
            "Epoch 12/100\n",
            "\n",
            "Epoch 12: ReduceLROnPlateau reducing learning rate to 0.0005000000237487257.\n",
            "583/583 - 104s - 179ms/step - accuracy: 0.9247 - loss: 0.2125 - val_accuracy: 0.8821 - val_loss: 0.3993 - learning_rate: 1.0000e-03\n",
            "Epoch 13/100\n",
            "583/583 - 143s - 246ms/step - accuracy: 0.9395 - loss: 0.1684 - val_accuracy: 0.8879 - val_loss: 0.3798 - learning_rate: 5.0000e-04\n",
            "Epoch 14/100\n",
            "583/583 - 143s - 245ms/step - accuracy: 0.9483 - loss: 0.1427 - val_accuracy: 0.8875 - val_loss: 0.3890 - learning_rate: 5.0000e-04\n",
            "Epoch 15/100\n",
            "583/583 - 144s - 247ms/step - accuracy: 0.9521 - loss: 0.1305 - val_accuracy: 0.8862 - val_loss: 0.4162 - learning_rate: 5.0000e-04\n",
            "Epoch 16/100\n",
            "583/583 - 141s - 242ms/step - accuracy: 0.9555 - loss: 0.1211 - val_accuracy: 0.8912 - val_loss: 0.4138 - learning_rate: 5.0000e-04\n",
            "Epoch 17/100\n",
            "\n",
            "Epoch 17: ReduceLROnPlateau reducing learning rate to 0.0002500000118743628.\n",
            "583/583 - 144s - 247ms/step - accuracy: 0.9564 - loss: 0.1160 - val_accuracy: 0.8880 - val_loss: 0.4256 - learning_rate: 5.0000e-04\n",
            "Epoch 18/100\n",
            "583/583 - 136s - 233ms/step - accuracy: 0.9623 - loss: 0.1006 - val_accuracy: 0.8906 - val_loss: 0.4108 - learning_rate: 2.5000e-04\n",
            "Epoch 19/100\n",
            "583/583 - 143s - 245ms/step - accuracy: 0.9651 - loss: 0.0919 - val_accuracy: 0.8919 - val_loss: 0.4132 - learning_rate: 2.5000e-04\n",
            "Epoch 20/100\n",
            "583/583 - 144s - 247ms/step - accuracy: 0.9677 - loss: 0.0853 - val_accuracy: 0.8913 - val_loss: 0.4253 - learning_rate: 2.5000e-04\n",
            "Epoch 21/100\n",
            "\n",
            "Epoch 21: ReduceLROnPlateau reducing learning rate to 0.0001250000059371814.\n",
            "583/583 - 107s - 183ms/step - accuracy: 0.9685 - loss: 0.0830 - val_accuracy: 0.8921 - val_loss: 0.4311 - learning_rate: 2.5000e-04\n",
            "Epoch 22/100\n",
            "583/583 - 106s - 181ms/step - accuracy: 0.9719 - loss: 0.0735 - val_accuracy: 0.8930 - val_loss: 0.4297 - learning_rate: 1.2500e-04\n",
            "Epoch 23/100\n",
            "583/583 - 140s - 239ms/step - accuracy: 0.9728 - loss: 0.0717 - val_accuracy: 0.8938 - val_loss: 0.4297 - learning_rate: 1.2500e-04\n",
            "Epoch 24/100\n",
            "583/583 - 142s - 243ms/step - accuracy: 0.9746 - loss: 0.0664 - val_accuracy: 0.8935 - val_loss: 0.4361 - learning_rate: 1.2500e-04\n",
            "Epoch 25/100\n",
            "\n",
            "Epoch 25: ReduceLROnPlateau reducing learning rate to 6.25000029685907e-05.\n",
            "583/583 - 106s - 181ms/step - accuracy: 0.9745 - loss: 0.0655 - val_accuracy: 0.8939 - val_loss: 0.4374 - learning_rate: 1.2500e-04\n",
            "Epoch 26/100\n",
            "583/583 - 145s - 249ms/step - accuracy: 0.9761 - loss: 0.0621 - val_accuracy: 0.8936 - val_loss: 0.4385 - learning_rate: 6.2500e-05\n",
            "Epoch 27/100\n",
            "583/583 - 107s - 183ms/step - accuracy: 0.9770 - loss: 0.0601 - val_accuracy: 0.8937 - val_loss: 0.4439 - learning_rate: 6.2500e-05\n",
            "Epoch 28/100\n",
            "583/583 - 142s - 244ms/step - accuracy: 0.9779 - loss: 0.0582 - val_accuracy: 0.8938 - val_loss: 0.4430 - learning_rate: 6.2500e-05\n",
            "Epoch 29/100\n",
            "\n",
            "Epoch 29: ReduceLROnPlateau reducing learning rate to 3.125000148429535e-05.\n",
            "583/583 - 138s - 237ms/step - accuracy: 0.9779 - loss: 0.0574 - val_accuracy: 0.8943 - val_loss: 0.4445 - learning_rate: 6.2500e-05\n",
            "Epoch 30/100\n",
            "583/583 - 144s - 247ms/step - accuracy: 0.9790 - loss: 0.0560 - val_accuracy: 0.8944 - val_loss: 0.4435 - learning_rate: 3.1250e-05\n",
            "Epoch 31/100\n",
            "583/583 - 143s - 245ms/step - accuracy: 0.9793 - loss: 0.0545 - val_accuracy: 0.8938 - val_loss: 0.4478 - learning_rate: 3.1250e-05\n",
            "Epoch 32/100\n",
            "583/583 - 140s - 239ms/step - accuracy: 0.9797 - loss: 0.0538 - val_accuracy: 0.8938 - val_loss: 0.4476 - learning_rate: 3.1250e-05\n",
            "Epoch 33/100\n",
            "\n",
            "Epoch 33: ReduceLROnPlateau reducing learning rate to 1.5625000742147677e-05.\n",
            "583/583 - 140s - 241ms/step - accuracy: 0.9807 - loss: 0.0514 - val_accuracy: 0.8938 - val_loss: 0.4493 - learning_rate: 3.1250e-05\n",
            "Epoch 34/100\n",
            "583/583 - 141s - 242ms/step - accuracy: 0.9800 - loss: 0.0521 - val_accuracy: 0.8947 - val_loss: 0.4498 - learning_rate: 1.5625e-05\n",
            "Epoch 35/100\n",
            "583/583 - 146s - 250ms/step - accuracy: 0.9808 - loss: 0.0509 - val_accuracy: 0.8938 - val_loss: 0.4508 - learning_rate: 1.5625e-05\n",
            "Epoch 36/100\n",
            "583/583 - 106s - 181ms/step - accuracy: 0.9807 - loss: 0.0510 - val_accuracy: 0.8938 - val_loss: 0.4499 - learning_rate: 1.5625e-05\n",
            "Epoch 37/100\n",
            "\n",
            "Epoch 37: ReduceLROnPlateau reducing learning rate to 7.812500371073838e-06.\n",
            "583/583 - 104s - 178ms/step - accuracy: 0.9811 - loss: 0.0503 - val_accuracy: 0.8935 - val_loss: 0.4526 - learning_rate: 1.5625e-05\n",
            "Epoch 38/100\n",
            "583/583 - 143s - 245ms/step - accuracy: 0.9809 - loss: 0.0500 - val_accuracy: 0.8942 - val_loss: 0.4530 - learning_rate: 7.8125e-06\n",
            "Epoch 39/100\n",
            "583/583 - 108s - 185ms/step - accuracy: 0.9818 - loss: 0.0490 - val_accuracy: 0.8939 - val_loss: 0.4540 - learning_rate: 7.8125e-06\n",
            "Epoch 40/100\n",
            "583/583 - 104s - 179ms/step - accuracy: 0.9814 - loss: 0.0491 - val_accuracy: 0.8944 - val_loss: 0.4522 - learning_rate: 7.8125e-06\n",
            "Epoch 41/100\n",
            "\n",
            "Epoch 41: ReduceLROnPlateau reducing learning rate to 3.906250185536919e-06.\n",
            "583/583 - 142s - 244ms/step - accuracy: 0.9817 - loss: 0.0492 - val_accuracy: 0.8939 - val_loss: 0.4523 - learning_rate: 7.8125e-06\n",
            "Epoch 42/100\n",
            "583/583 - 141s - 241ms/step - accuracy: 0.9807 - loss: 0.0512 - val_accuracy: 0.8942 - val_loss: 0.4525 - learning_rate: 3.9063e-06\n",
            "Epoch 42: early stopping\n",
            "Restoring model weights from the end of the best epoch: 34.\n",
            "648/648 - 11s - 17ms/step - accuracy: 0.8903 - loss: 0.4786\n",
            "\n",
            "Improved Curvature+Orientation MLP on EMNIST Letters\n",
            "Test Accuracy   : 89.03%\n",
            "Training Time   : 5528.7s\n",
            "Inference Time  : 12.6s for 20720 samples\n"
          ]
        }
      ],
      "source": [
        "# 7. Build MLP model (input dim = 2352)\n",
        "model = models.Sequential([\n",
        "    layers.Input(shape=(2352,)),\n",
        "    layers.Dense(2048), layers.BatchNormalization(), layers.Activation('relu'), layers.Dropout(0.5),\n",
        "    layers.Dense(1024), layers.BatchNormalization(), layers.Activation('relu'), layers.Dropout(0.5),\n",
        "    layers.Dense(512),  layers.BatchNormalization(), layers.Activation('relu'), layers.Dropout(0.4),\n",
        "    layers.Dense(256),  layers.BatchNormalization(), layers.Activation('relu'), layers.Dropout(0.3),\n",
        "    layers.Dense(26, activation='softmax')\n",
        "])\n",
        "\n",
        "# 8. Compile with a float learning rate so ReduceLROnPlateau can adjust it\n",
        "model.compile(\n",
        "    optimizer=tf.keras.optimizers.Adam(learning_rate=1e-3),\n",
        "    loss='sparse_categorical_crossentropy',\n",
        "    metrics=['accuracy']\n",
        ")\n",
        "\n",
        "# 9. Callbacks (patience=8, up to 100 epochs)\n",
        "es  = callbacks.EarlyStopping(monitor='val_accuracy', patience=8, restore_best_weights=True, verbose=1)\n",
        "rlr = callbacks.ReduceLROnPlateau(  monitor='val_loss', factor=0.5, patience=4, min_lr=1e-6, verbose=1)\n",
        "\n",
        "# 10. Train\n",
        "t0 = time.time()\n",
        "history = model.fit(\n",
        "    X_train_feat, y_train,\n",
        "    validation_split=0.1,\n",
        "    epochs=100,\n",
        "    batch_size=128,\n",
        "    callbacks=[es, rlr],\n",
        "    verbose=2\n",
        ")\n",
        "train_time = time.time() - t0\n",
        "\n",
        "# 11. Evaluate & report\n",
        "t1 = time.time()\n",
        "loss, acc  = model.evaluate(X_test_feat, y_test, verbose=2)\n",
        "infer_time = time.time() - t1\n",
        "\n",
        "print(f\"\\nImproved Curvature+Orientation MLP on EMNIST Letters\")\n",
        "print(f\"Test Accuracy   : {acc*100:.2f}%\")\n",
        "print(f\"Training Time   : {train_time:.1f}s\")\n",
        "print(f\"Inference Time  : {infer_time:.1f}s for {X_test_feat.shape[0]} samples\")"
      ]
    }
  ],
  "metadata": {
    "colab": {
      "provenance": [],
      "include_colab_link": true
    },
    "kernelspec": {
      "display_name": "Python 3",
      "name": "python3"
    },
    "language_info": {
      "name": "python"
    }
  },
  "nbformat": 4,
  "nbformat_minor": 0
}