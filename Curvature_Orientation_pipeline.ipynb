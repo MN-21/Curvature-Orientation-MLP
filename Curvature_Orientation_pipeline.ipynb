{
  "cells": [
    {
      "cell_type": "markdown",
      "metadata": {
        "id": "view-in-github",
        "colab_type": "text"
      },
      "source": [
        "<a href=\"https://colab.research.google.com/github/MN-21/handwriting-dnn-features/blob/main/Curvature_Orientation_pipeline.ipynb\" target=\"_parent\"><img src=\"https://colab.research.google.com/assets/colab-badge.svg\" alt=\"Open In Colab\"/></a>"
      ]
    },
    {
      "cell_type": "markdown",
      "metadata": {
        "id": "_VN2-5yjNzwe"
      },
      "source": [
        "“Improved Curvature + Orientation MLP”"
      ]
    },
    {
      "cell_type": "code",
      "execution_count": null,
      "metadata": {
        "colab": {
          "background_save": true,
          "base_uri": "https://localhost:8080/",
          "height": 943,
          "referenced_widgets": [
            "a61ceaf8942341f5ad83b1d9a822c62c",
            "f2b0416f4192498e8496de975f2ccd79",
            "8ed28e69e40849438f3e40384d89463d",
            "8288a05320ce484293f4367bd340df48",
            "5cbf35f1c6904065891ac8baaf080704",
            "e6fb7391fee44920858979c52c1ed297",
            "c443d050a4dd43949e2b948f066f62ac",
            "bb7fdcfe1c634042a65c1ffcc8b9ff37",
            "292452b7be3d4fa09a82feaa22012a06",
            "fb751b5b994145a6a9fdcf3aa870252a",
            "ec59954ee3274c06ae2faf328c6603ad",
            "ebb5cc12d97b46c48e54b57cb6ef01c4",
            "66751d87f2e94ead80f3de0316c2da45",
            "3028082eba294de6b197488c48692896",
            "0c37eb8f391e4800b4ba6f50a1d24f3b",
            "ecac68e79e804b0889e1d8afc1195557",
            "6831a5c4ae9644c49964efbd26d977bb",
            "12cb52c29ee44eb987c7d2e519f73e55",
            "3911c7d7a6944c158e2e967eb1b8118f",
            "76e03c97a0a94f28a74e211061f20a64",
            "0e0c4961a23d45bbbdd39ec36999454c",
            "bb9f403bd5014464950351daadcf489a",
            "0b0c833b45d94cb29c6c53211949e5b6",
            "7335da97f1464013b4005f1a8bf46bb4",
            "6e1da46eeee24e0695949a43fb6c036e",
            "fb01c5afb86a4bffab459a38f1605e1e",
            "b0543e28ee11400090073cea0b6c3771",
            "947d5c1e3a87495cac196f59e1070685",
            "fcac482d5daa42fcaa52f69a790a174d",
            "978443ac48a64315bd3a14aac5f58539",
            "2e5fb9dbf7b74e73a43db38e31ab3f81",
            "a694e3b718d2443c820dd63ef03754e8",
            "5a653d4b24b94318ba91b061027e0cbc",
            "0832fd8d02f64d02aab057dccdf51bf3",
            "d9e73ef814c040b4b08b8161acb3fa9d",
            "792e47f8d97647559e2971849e7c0db5",
            "462c686552904983a9aa017f1d645d6e",
            "500abc13f1254693b98eba1fc31d91ee",
            "742f7a46996e4460ad5aa4780aa2844b",
            "6b3ea95efba64b64a51e62c8b78128d2",
            "c0f9bce0dd004dff9dd92d87633290cb",
            "c834f30268d24ed381cb44f7bf1fd133",
            "56650b21673345f09be4642a11fbbb44",
            "b1048cada40d46cba34b472d855d64b7",
            "e4f8a8d87c1148cc995ba35fb7f10d63",
            "69e6b3c37da14c8ea6f559010844a0ff",
            "ab336adae6824c679bea740ce4f69f9b",
            "86cae25c2c3e47a498d9224d9cdd8faf",
            "5e30c03c1f59469592a3997517c90c2b",
            "f657bf8bcc2f44bead3e2ca2e1b5a881",
            "4562b2662e0d48b9946f3e5932f50a45",
            "624929e4efaa41daab85ab38bf8a81d3",
            "21e7109413fb46afb1e0a0165207a34b",
            "25ad64411692496483222a23b8c66259",
            "57c54c17d1c44945b153aa55f9a91bea",
            "81d8ea44274848169ecd338af2ee869d",
            "8e9a01e1fc2842f0abb11ebae2170f11",
            "decb49d48ae141b3bec93a668f44f681",
            "a18407f4891d47aea6b5161f96580bb2",
            "e6bc6deac2fa4a18b9ad0a4fa2e155dc",
            "2727d3d321ba4b8e848324dcd88bf3bc",
            "7ee7b812e5e74b659a18b9963fc00649",
            "8295ff7ce5ca42309a840bb932c2695f",
            "157a1b87475340a4af19a146c3076b7e",
            "2b4ae4cb732b4fafa31abfa9c6e5b389",
            "1ad8a65c56d145c192bfb5bf926295fa",
            "d2d213479ef4455ca075227d4eb47c1f",
            "3a9c45dc4af84caeab087e3130c0b1b0",
            "fa149a17a752480784bd1bd49ef3779b",
            "e1a5fc60aef7443a8f5a8e5eebf11401",
            "16602e2009954cbf9d83264aa91629b4",
            "cecfcbf8bcd440dab215e79816119f8d",
            "14bb00c9db6946e2b03b5d2ce924b4fc",
            "2ad2db58b75442358ff31461c633c816",
            "fb2642d11d144deda267cb03ed932512",
            "9ef9218aed144b4a96d270868fadfce5",
            "ee25d311aa8a425896f2adff4461dd7a",
            "dc1fd65165c64f60afa5bdf704fc284c",
            "44bc3134453c4ee7896d4f4def7b8273",
            "ed7c6341aabe4f4daec0c9bc14db6675",
            "7dc7b14d45c64a1c88226eb9fdce1124",
            "b8c34337ba5941c5b11fb3b3ca42e310",
            "db3ec07d5add4589aeb3599343d6e550",
            "1737589ca2744b38b6f051aa9f6b4351",
            "0e42dc2365e44395b90ed0ea8939ebf2",
            "e98ca1e236d84448a748f9fa267d484a",
            "8dcd05c482894f908eb7137128ddb30d",
            "bd5d805b867e4cb395a9875356031c3e",
            "beed1543844149c2b371a5e644a0ad33",
            "968e2bbb895d4222a5b586fa8c025595",
            "ff8eabd430904e9ebcc16cc4024d0798",
            "18d1665c677b46cbb81587190e88dd97",
            "1581e0e6c5a54174a4fc10e21eb7be90",
            "d2c533ee1f1b4f769050835ff858a982",
            "6722fc577bb0426699d8a6c9066cea21",
            "b313d4cee4cf4fb2a1d9d72077e6f509",
            "d9d2d4d4075f4ea8ab859e57cc7ba0d4",
            "2932dc7bcad2492284880ad765a6e287",
            "e3425b6449b8446f804c6386febb8272"
          ]
        },
        "id": "a5-XhGPXpYsS",
        "outputId": "952d6968-e032-4279-b4de-af43715ffe58"
      },
      "outputs": [
        {
          "name": "stderr",
          "output_type": "stream",
          "text": [
            "WARNING:absl:Variant folder /root/tensorflow_datasets/emnist/letters/3.1.0 has no dataset_info.json\n"
          ]
        },
        {
          "name": "stdout",
          "output_type": "stream",
          "text": [
            "Downloading and preparing dataset Unknown size (download: Unknown size, generated: Unknown size, total: Unknown size) to /root/tensorflow_datasets/emnist/letters/3.1.0...\n"
          ]
        },
        {
          "data": {
            "application/vnd.jupyter.widget-view+json": {
              "model_id": "a61ceaf8942341f5ad83b1d9a822c62c",
              "version_major": 2,
              "version_minor": 0
            },
            "text/plain": [
              "Dl Completed...: 0 url [00:00, ? url/s]"
            ]
          },
          "metadata": {},
          "output_type": "display_data"
        },
        {
          "data": {
            "application/vnd.jupyter.widget-view+json": {
              "model_id": "ebb5cc12d97b46c48e54b57cb6ef01c4",
              "version_major": 2,
              "version_minor": 0
            },
            "text/plain": [
              "Dl Size...: 0 MiB [00:00, ? MiB/s]"
            ]
          },
          "metadata": {},
          "output_type": "display_data"
        },
        {
          "data": {
            "application/vnd.jupyter.widget-view+json": {
              "model_id": "0b0c833b45d94cb29c6c53211949e5b6",
              "version_major": 2,
              "version_minor": 0
            },
            "text/plain": [
              "Extraction completed...: 0 file [00:00, ? file/s]"
            ]
          },
          "metadata": {},
          "output_type": "display_data"
        },
        {
          "data": {
            "application/vnd.jupyter.widget-view+json": {
              "model_id": "0832fd8d02f64d02aab057dccdf51bf3",
              "version_major": 2,
              "version_minor": 0
            },
            "text/plain": [
              "Extraction completed...: 0 file [00:00, ? file/s]"
            ]
          },
          "metadata": {},
          "output_type": "display_data"
        },
        {
          "data": {
            "application/vnd.jupyter.widget-view+json": {
              "model_id": "e4f8a8d87c1148cc995ba35fb7f10d63",
              "version_major": 2,
              "version_minor": 0
            },
            "text/plain": [
              "Generating splits...:   0%|          | 0/2 [00:00<?, ? splits/s]"
            ]
          },
          "metadata": {},
          "output_type": "display_data"
        },
        {
          "data": {
            "application/vnd.jupyter.widget-view+json": {
              "model_id": "81d8ea44274848169ecd338af2ee869d",
              "version_major": 2,
              "version_minor": 0
            },
            "text/plain": [
              "Generating train examples...: 0 examples [00:00, ? examples/s]"
            ]
          },
          "metadata": {},
          "output_type": "display_data"
        },
        {
          "data": {
            "application/vnd.jupyter.widget-view+json": {
              "model_id": "d2d213479ef4455ca075227d4eb47c1f",
              "version_major": 2,
              "version_minor": 0
            },
            "text/plain": [
              "Shuffling /root/tensorflow_datasets/emnist/letters/incomplete.HV9HNT_3.1.0/emnist-train.tfrecord*...:   0%|   …"
            ]
          },
          "metadata": {},
          "output_type": "display_data"
        },
        {
          "data": {
            "application/vnd.jupyter.widget-view+json": {
              "model_id": "dc1fd65165c64f60afa5bdf704fc284c",
              "version_major": 2,
              "version_minor": 0
            },
            "text/plain": [
              "Generating test examples...: 0 examples [00:00, ? examples/s]"
            ]
          },
          "metadata": {},
          "output_type": "display_data"
        },
        {
          "data": {
            "application/vnd.jupyter.widget-view+json": {
              "model_id": "beed1543844149c2b371a5e644a0ad33",
              "version_major": 2,
              "version_minor": 0
            },
            "text/plain": [
              "Shuffling /root/tensorflow_datasets/emnist/letters/incomplete.HV9HNT_3.1.0/emnist-test.tfrecord*...:   0%|    …"
            ]
          },
          "metadata": {},
          "output_type": "display_data"
        },
        {
          "name": "stdout",
          "output_type": "stream",
          "text": [
            "Dataset emnist downloaded and prepared to /root/tensorflow_datasets/emnist/letters/3.1.0. Subsequent calls will reuse this data.\n"
          ]
        },
        {
          "name": "stderr",
          "output_type": "stream",
          "text": [
            "Extracting features: 100%|██████████| 82880/82880 [00:12<00:00, 6535.22it/s]\n",
            "Extracting features: 100%|██████████| 20720/20720 [00:02<00:00, 7249.24it/s]\n"
          ]
        },
        {
          "name": "stdout",
          "output_type": "stream",
          "text": [
            "Epoch 1/100\n",
            "583/583 - 117s - 201ms/step - accuracy: 0.6055 - loss: 1.3087 - val_accuracy: 0.7741 - val_loss: 0.7026 - learning_rate: 1.0000e-03\n",
            "Epoch 2/100\n",
            "583/583 - 115s - 197ms/step - accuracy: 0.7755 - loss: 0.7051 - val_accuracy: 0.8393 - val_loss: 0.4979 - learning_rate: 1.0000e-03\n",
            "Epoch 3/100\n",
            "583/583 - 141s - 242ms/step - accuracy: 0.8147 - loss: 0.5676 - val_accuracy: 0.8488 - val_loss: 0.4564 - learning_rate: 1.0000e-03\n",
            "Epoch 4/100\n",
            "583/583 - 141s - 242ms/step - accuracy: 0.8434 - loss: 0.4786 - val_accuracy: 0.8639 - val_loss: 0.4267 - learning_rate: 1.0000e-03\n",
            "Epoch 5/100\n",
            "583/583 - 146s - 251ms/step - accuracy: 0.8604 - loss: 0.4192 - val_accuracy: 0.8697 - val_loss: 0.4048 - learning_rate: 1.0000e-03\n",
            "Epoch 6/100\n",
            "583/583 - 139s - 239ms/step - accuracy: 0.8755 - loss: 0.3698 - val_accuracy: 0.8748 - val_loss: 0.3962 - learning_rate: 1.0000e-03\n",
            "Epoch 7/100\n",
            "583/583 - 145s - 249ms/step - accuracy: 0.8876 - loss: 0.3283 - val_accuracy: 0.8732 - val_loss: 0.4002 - learning_rate: 1.0000e-03\n",
            "Epoch 8/100\n",
            "583/583 - 141s - 242ms/step - accuracy: 0.8982 - loss: 0.2978 - val_accuracy: 0.8758 - val_loss: 0.3911 - learning_rate: 1.0000e-03\n",
            "Epoch 9/100\n",
            "583/583 - 141s - 243ms/step - accuracy: 0.9052 - loss: 0.2748 - val_accuracy: 0.8795 - val_loss: 0.3897 - learning_rate: 1.0000e-03\n",
            "Epoch 10/100\n",
            "583/583 - 140s - 240ms/step - accuracy: 0.9118 - loss: 0.2504 - val_accuracy: 0.8834 - val_loss: 0.3877 - learning_rate: 1.0000e-03\n",
            "Epoch 11/100\n",
            "583/583 - 114s - 195ms/step - accuracy: 0.9182 - loss: 0.2310 - val_accuracy: 0.8762 - val_loss: 0.3970 - learning_rate: 1.0000e-03\n",
            "Epoch 12/100\n",
            "583/583 - 147s - 252ms/step - accuracy: 0.9242 - loss: 0.2148 - val_accuracy: 0.8819 - val_loss: 0.3909 - learning_rate: 1.0000e-03\n",
            "Epoch 13/100\n",
            "583/583 - 139s - 239ms/step - accuracy: 0.9298 - loss: 0.1987 - val_accuracy: 0.8824 - val_loss: 0.3963 - learning_rate: 1.0000e-03\n",
            "Epoch 14/100\n",
            "\n",
            "Epoch 14: ReduceLROnPlateau reducing learning rate to 0.0005000000237487257.\n",
            "583/583 - 115s - 197ms/step - accuracy: 0.9332 - loss: 0.1855 - val_accuracy: 0.8845 - val_loss: 0.4149 - learning_rate: 1.0000e-03\n",
            "Epoch 15/100\n",
            "583/583 - 140s - 241ms/step - accuracy: 0.9463 - loss: 0.1471 - val_accuracy: 0.8889 - val_loss: 0.3899 - learning_rate: 5.0000e-04\n",
            "Epoch 16/100\n",
            "583/583 - 144s - 247ms/step - accuracy: 0.9541 - loss: 0.1253 - val_accuracy: 0.8896 - val_loss: 0.4050 - learning_rate: 5.0000e-04\n",
            "Epoch 17/100\n",
            "583/583 - 141s - 242ms/step - accuracy: 0.9577 - loss: 0.1141 - val_accuracy: 0.8883 - val_loss: 0.4081 - learning_rate: 5.0000e-04\n",
            "Epoch 18/100\n",
            "\n",
            "Epoch 18: ReduceLROnPlateau reducing learning rate to 0.0002500000118743628.\n",
            "583/583 - 140s - 240ms/step - accuracy: 0.9594 - loss: 0.1077 - val_accuracy: 0.8924 - val_loss: 0.4167 - learning_rate: 5.0000e-04\n",
            "Epoch 19/100\n",
            "583/583 - 143s - 246ms/step - accuracy: 0.9658 - loss: 0.0928 - val_accuracy: 0.8925 - val_loss: 0.4091 - learning_rate: 2.5000e-04\n",
            "Epoch 20/100\n",
            "583/583 - 141s - 242ms/step - accuracy: 0.9684 - loss: 0.0849 - val_accuracy: 0.8944 - val_loss: 0.4176 - learning_rate: 2.5000e-04\n",
            "Epoch 21/100\n",
            "583/583 - 144s - 246ms/step - accuracy: 0.9695 - loss: 0.0797 - val_accuracy: 0.8941 - val_loss: 0.4215 - learning_rate: 2.5000e-04\n",
            "Epoch 22/100\n",
            "\n",
            "Epoch 22: ReduceLROnPlateau reducing learning rate to 0.0001250000059371814.\n",
            "583/583 - 141s - 242ms/step - accuracy: 0.9716 - loss: 0.0762 - val_accuracy: 0.8937 - val_loss: 0.4298 - learning_rate: 2.5000e-04\n",
            "Epoch 23/100\n",
            "583/583 - 140s - 240ms/step - accuracy: 0.9742 - loss: 0.0689 - val_accuracy: 0.8951 - val_loss: 0.4263 - learning_rate: 1.2500e-04\n",
            "Epoch 24/100\n",
            "583/583 - 143s - 246ms/step - accuracy: 0.9755 - loss: 0.0660 - val_accuracy: 0.8930 - val_loss: 0.4321 - learning_rate: 1.2500e-04\n",
            "Epoch 25/100\n",
            "583/583 - 112s - 193ms/step - accuracy: 0.9774 - loss: 0.0607 - val_accuracy: 0.8950 - val_loss: 0.4390 - learning_rate: 1.2500e-04\n",
            "Epoch 26/100\n",
            "\n",
            "Epoch 26: ReduceLROnPlateau reducing learning rate to 6.25000029685907e-05.\n",
            "583/583 - 143s - 244ms/step - accuracy: 0.9779 - loss: 0.0577 - val_accuracy: 0.8938 - val_loss: 0.4460 - learning_rate: 1.2500e-04\n",
            "Epoch 27/100\n",
            "583/583 - 140s - 240ms/step - accuracy: 0.9783 - loss: 0.0574 - val_accuracy: 0.8947 - val_loss: 0.4449 - learning_rate: 6.2500e-05\n",
            "Epoch 28/100\n",
            "583/583 - 112s - 192ms/step - accuracy: 0.9793 - loss: 0.0549 - val_accuracy: 0.8954 - val_loss: 0.4463 - learning_rate: 6.2500e-05\n",
            "Epoch 29/100\n",
            "583/583 - 142s - 244ms/step - accuracy: 0.9796 - loss: 0.0544 - val_accuracy: 0.8947 - val_loss: 0.4506 - learning_rate: 6.2500e-05\n",
            "Epoch 30/100\n",
            "\n",
            "Epoch 30: ReduceLROnPlateau reducing learning rate to 3.125000148429535e-05.\n",
            "583/583 - 141s - 242ms/step - accuracy: 0.9801 - loss: 0.0533 - val_accuracy: 0.8944 - val_loss: 0.4530 - learning_rate: 6.2500e-05\n",
            "Epoch 31/100\n",
            "583/583 - 144s - 247ms/step - accuracy: 0.9810 - loss: 0.0508 - val_accuracy: 0.8943 - val_loss: 0.4531 - learning_rate: 3.1250e-05\n",
            "Epoch 32/100\n",
            "583/583 - 142s - 244ms/step - accuracy: 0.9815 - loss: 0.0502 - val_accuracy: 0.8936 - val_loss: 0.4528 - learning_rate: 3.1250e-05\n",
            "Epoch 33/100\n",
            "583/583 - 141s - 243ms/step - accuracy: 0.9823 - loss: 0.0481 - val_accuracy: 0.8942 - val_loss: 0.4531 - learning_rate: 3.1250e-05\n",
            "Epoch 34/100\n",
            "\n",
            "Epoch 34: ReduceLROnPlateau reducing learning rate to 1.5625000742147677e-05.\n",
            "583/583 - 144s - 246ms/step - accuracy: 0.9816 - loss: 0.0488 - val_accuracy: 0.8938 - val_loss: 0.4562 - learning_rate: 3.1250e-05\n",
            "Epoch 35/100\n",
            "583/583 - 141s - 241ms/step - accuracy: 0.9822 - loss: 0.0481 - val_accuracy: 0.8938 - val_loss: 0.4567 - learning_rate: 1.5625e-05\n",
            "Epoch 36/100\n",
            "583/583 - 143s - 246ms/step - accuracy: 0.9818 - loss: 0.0485 - val_accuracy: 0.8938 - val_loss: 0.4571 - learning_rate: 1.5625e-05\n",
            "Epoch 36: early stopping\n",
            "Restoring model weights from the end of the best epoch: 28.\n",
            "648/648 - 12s - 18ms/step - accuracy: 0.8909 - loss: 0.4791\n",
            "\n",
            "Improved Curvature+Orientation MLP on EMNIST Letters\n",
            "Test Accuracy   : 89.09%\n",
            "Training Time   : 4946.5s\n",
            "Inference Time  : 21.5s for 20720 samples\n"
          ]
        }
      ],
      "source": [
        "# Install dependencies\n",
        "!pip install --quiet tensorflow tensorflow-datasets opencv-python tqdm scikit-learn\n",
        "\n",
        "import cv2\n",
        "import time\n",
        "import numpy as np\n",
        "import tensorflow as tf\n",
        "import tensorflow_datasets as tfds\n",
        "from sklearn.model_selection import train_test_split\n",
        "from sklearn.preprocessing import StandardScaler\n",
        "from tensorflow.keras import layers, models, callbacks\n",
        "from tensorflow.keras import layers, models\n",
        "from tensorflow.keras.callbacks import EarlyStopping, ReduceLROnPlateau, ModelCheckpoint\n",
        "from tqdm import tqdm\n",
        "\n",
        "# 1. Extract curvature and gradient orientation\n",
        "def extract_curv_and_orientation(images):\n",
        "    N = images.shape[0]\n",
        "    curv_abs   = np.zeros((N,28,28), dtype=np.float32)\n",
        "    curv_sign  = np.zeros((N,28,28), dtype=np.float32)\n",
        "    orient_map = np.zeros((N,28,28), dtype=np.float32)\n",
        "    for i, img in enumerate(tqdm(images, desc=\"Extracting features\")):\n",
        "        gx  = cv2.Sobel(img, cv2.CV_32F, 1, 0, ksize=3)\n",
        "        gy  = cv2.Sobel(img, cv2.CV_32F, 0, 1, ksize=3)\n",
        "        fxx = cv2.Sobel(img, cv2.CV_32F, 2, 0, ksize=3)\n",
        "        fyy = cv2.Sobel(img, cv2.CV_32F, 0, 2, ksize=3)\n",
        "        fxy = cv2.Sobel(img, cv2.CV_32F, 1, 1, ksize=3)\n",
        "        num   = fxx * gy**2 - 2*fxy * gx * gy + fyy * gx**2\n",
        "        denom = (gx**2 + gy**2 + 1e-8)**1.5\n",
        "        k     = num / (denom + 1e-8)\n",
        "        k_abs = np.abs(k)\n",
        "        if k_abs.max() > 0:\n",
        "            k_abs /= k_abs.max()\n",
        "        curv_abs[i]  = k_abs\n",
        "        curv_sign[i] = np.sign(k)\n",
        "        theta = np.arctan2(gy, gx)\n",
        "        orient_map[i] = (theta + np.pi) / (2*np.pi)\n",
        "    return curv_abs, curv_sign, orient_map\n",
        "\n",
        "# 2. Load & combine EMNIST Letters\n",
        "(ds_train, ds_test), _ = tfds.load(\n",
        "    'emnist/letters',\n",
        "    split=['train','test'],\n",
        "    as_supervised=True,\n",
        "    with_info=True\n",
        ")\n",
        "imgs, lbls = [], []\n",
        "for img, lbl in tfds.as_numpy(ds_train.concatenate(ds_test)):\n",
        "    imgs.append(img.squeeze())\n",
        "    lbls.append(int(lbl) - 1)\n",
        "imgs = np.stack(imgs)\n",
        "lbls = np.array(lbls)\n",
        "\n",
        "# 3. Stratified 80/20 split\n",
        "X_train, X_test, y_train, y_test = train_test_split(\n",
        "    imgs, lbls, train_size=0.8,\n",
        "    stratify=lbls, random_state=42\n",
        ")\n",
        "\n",
        "# 4. Compute features\n",
        "curv_abs_tr, curv_sign_tr, orient_tr = extract_curv_and_orientation(X_train)\n",
        "curv_abs_te,  curv_sign_te,  orient_te  = extract_curv_and_orientation(X_test)\n",
        "\n",
        "# 5. Flatten & stack (3×784 = 2352 dims)\n",
        "def stack_flatten(a, s, o):\n",
        "    N = a.shape[0]\n",
        "    return np.hstack([a.reshape(N,-1), s.reshape(N,-1), o.reshape(N,-1)])\n",
        "X_train_feat = stack_flatten(curv_abs_tr, curv_sign_tr, orient_tr)\n",
        "X_test_feat  = stack_flatten(curv_abs_te,  curv_sign_te,  orient_te)\n",
        "\n",
        "\n",
        "# 7. Build MLP model (input dim = 2352)\n",
        "model = models.Sequential([\n",
        "    layers.Input(shape=(2352,)),\n",
        "    layers.Dense(2048), layers.BatchNormalization(), layers.Activation('relu'), layers.Dropout(0.5),\n",
        "    layers.Dense(1024), layers.BatchNormalization(), layers.Activation('relu'), layers.Dropout(0.5),\n",
        "    layers.Dense(512),  layers.BatchNormalization(), layers.Activation('relu'), layers.Dropout(0.4),\n",
        "    layers.Dense(256),  layers.BatchNormalization(), layers.Activation('relu'), layers.Dropout(0.3),\n",
        "    layers.Dense(26, activation='softmax')\n",
        "])\n",
        "\n",
        "# 8. Compile with a float learning rate so ReduceLROnPlateau can adjust it\n",
        "model.compile(\n",
        "    optimizer=tf.keras.optimizers.Adam(learning_rate=1e-3),\n",
        "    loss='sparse_categorical_crossentropy',\n",
        "    metrics=['accuracy']\n",
        ")\n",
        "\n",
        "# 9. Callbacks (patience=8, up to 100 epochs)\n",
        "es  = callbacks.EarlyStopping(monitor='val_accuracy', patience=8, restore_best_weights=True, verbose=1)\n",
        "rlr = callbacks.ReduceLROnPlateau(  monitor='val_loss', factor=0.5, patience=4, min_lr=1e-6, verbose=1)\n",
        "\n",
        "# 10. Train\n",
        "t0 = time.time()\n",
        "history = model.fit(\n",
        "    X_train_feat, y_train,\n",
        "    validation_split=0.1,\n",
        "    epochs=100,\n",
        "    batch_size=128,\n",
        "    callbacks=[es, rlr],\n",
        "    verbose=2\n",
        ")\n",
        "train_time = time.time() - t0\n",
        "\n",
        "# 11. Evaluate & report\n",
        "t1 = time.time()\n",
        "loss, acc  = model.evaluate(X_test_feat, y_test, verbose=2)\n",
        "infer_time = time.time() - t1\n",
        "\n",
        "print(f\"\\nImproved Curvature+Orientation MLP on EMNIST Letters\")\n",
        "print(f\"Test Accuracy   : {acc*100:.2f}%\")\n",
        "print(f\"Training Time   : {train_time:.1f}s\")\n",
        "print(f\"Inference Time  : {infer_time:.1f}s for {X_test_feat.shape[0]} samples\")\n"
      ]
    },
    {
      "cell_type": "code",
      "source": [
        "# Install dependencies\n",
        "!pip install --quiet tensorflow tensorflow-datasets opencv-python tqdm scikit-learn\n",
        "\n",
        "import cv2\n",
        "import time\n",
        "import numpy as np\n",
        "import tensorflow as tf\n",
        "import tensorflow_datasets as tfds\n",
        "from sklearn.model_selection import train_test_split\n",
        "from sklearn.preprocessing import StandardScaler\n",
        "from tensorflow.keras import layers, models, callbacks\n",
        "from tqdm import tqdm\n",
        "\n",
        "# 1. Extract curvature and gradient orientation\n",
        "def extract_curv_and_orientation(images):\n",
        "    N = images.shape[0]\n",
        "    curv_abs   = np.zeros((N,28,28), dtype=np.float32)\n",
        "    curv_sign  = np.zeros((N,28,28), dtype=np.float32)\n",
        "    orient_map = np.zeros((N,28,28), dtype=np.float32)\n",
        "    for i, img in enumerate(tqdm(images, desc=\"Extracting features\")):\n",
        "        gx  = cv2.Sobel(img, cv2.CV_32F, 1, 0, ksize=3)\n",
        "        gy  = cv2.Sobel(img, cv2.CV_32F, 0, 1, ksize=3)\n",
        "        fxx = cv2.Sobel(img, cv2.CV_32F, 2, 0, ksize=3)\n",
        "        fyy = cv2.Sobel(img, cv2.CV_32F, 0, 2, ksize=3)\n",
        "        fxy = cv2.Sobel(img, cv2.CV_32F, 1, 1, ksize=3)\n",
        "        num   = fxx * gy**2 - 2*fxy * gx * gy + fyy * gx**2\n",
        "        denom = (gx**2 + gy**2 + 1e-8)**1.5\n",
        "        k     = num / (denom + 1e-8)\n",
        "        k_abs = np.abs(k)\n",
        "        if k_abs.max() > 0:\n",
        "            k_abs /= k_abs.max()\n",
        "        curv_abs[i]  = k_abs\n",
        "        curv_sign[i] = np.sign(k)\n",
        "        theta = np.arctan2(gy, gx)\n",
        "        orient_map[i] = (theta + np.pi) / (2*np.pi)\n",
        "    return curv_abs, curv_sign, orient_map\n",
        "\n",
        "# 2. Load & combine MNIST via TFDS\n",
        "(ds_train, ds_test), ds_info = tfds.load(\n",
        "    'mnist',\n",
        "    split=['train', 'test'],        # train/test splits :contentReference[oaicite:0]{index=0}\n",
        "    as_supervised=True,\n",
        "    with_info=True\n",
        ")\n",
        "imgs, lbls = [], []\n",
        "for img, lbl in tfds.as_numpy(ds_train.concatenate(ds_test)):\n",
        "    imgs.append(img.squeeze())      # shape (28,28)\n",
        "    lbls.append(int(lbl))           # labels 0–9\n",
        "imgs = np.stack(imgs)               # (70000,28,28)\n",
        "lbls = np.array(lbls, dtype=int)\n",
        "\n",
        "# 3. Stratified 80/20 train/test split\n",
        "X_train, X_test, y_train, y_test = train_test_split(\n",
        "    imgs, lbls,\n",
        "    train_size=0.8,\n",
        "    stratify=lbls,                  # balanced classes :contentReference[oaicite:1]{index=1}\n",
        "    random_state=42\n",
        ")\n",
        "\n",
        "# 4. Compute features\n",
        "curv_abs_tr, curv_sign_tr, orient_tr = extract_curv_and_orientation(X_train)\n",
        "curv_abs_te,  curv_sign_te,  orient_te  = extract_curv_and_orientation(X_test)\n",
        "\n",
        "# 5. Flatten & stack (3×784 = 2352 dims)\n",
        "def stack_flatten(a, s, o):\n",
        "    N = a.shape[0]\n",
        "    return np.hstack([a.reshape(N,-1), s.reshape(N,-1), o.reshape(N,-1)])\n",
        "X_train_feat = stack_flatten(curv_abs_tr, curv_sign_tr, orient_tr)\n",
        "X_test_feat  = stack_flatten(curv_abs_te,  curv_sign_te,  orient_te)\n",
        "\n",
        "# 6. Standardize features\n",
        "#scaler = StandardScaler()\n",
        "#X_train_feat = scaler.fit_transform(X_train_feat)\n",
        "#X_test_feat  = scaler.transform(X_test_feat)\n",
        "\n",
        "# 7. Build MLP model (input dim = 2352, output = 10 classes)\n",
        "model = models.Sequential([\n",
        "    layers.Input(shape=(2352,)),\n",
        "    layers.Dense(2048), layers.BatchNormalization(), layers.Activation('relu'), layers.Dropout(0.5),\n",
        "    layers.Dense(1024), layers.BatchNormalization(), layers.Activation('relu'), layers.Dropout(0.5),\n",
        "    layers.Dense(512),  layers.BatchNormalization(), layers.Activation('relu'), layers.Dropout(0.4),\n",
        "    layers.Dense(256),  layers.BatchNormalization(), layers.Activation('relu'), layers.Dropout(0.3),\n",
        "    layers.Dense(10, activation='softmax')\n",
        "])\n",
        "\n",
        "# 8. Compile\n",
        "model.compile(\n",
        "    optimizer=tf.keras.optimizers.Adam(learning_rate=1e-3),\n",
        "    loss='sparse_categorical_crossentropy',\n",
        "    metrics=['accuracy']\n",
        ")\n",
        "\n",
        "# 9. Callbacks\n",
        "es  = callbacks.EarlyStopping(monitor='val_accuracy', patience=8, restore_best_weights=True, verbose=1)\n",
        "rlr = callbacks.ReduceLROnPlateau(monitor='val_loss', factor=0.5, patience=4, min_lr=1e-6, verbose=1)\n",
        "\n",
        "# 10. Train\n",
        "t0 = time.time()\n",
        "history = model.fit(\n",
        "    X_train_feat, y_train,\n",
        "    validation_split=0.1,\n",
        "    epochs=100,\n",
        "    batch_size=128,\n",
        "    callbacks=[es, rlr],\n",
        "    verbose=2\n",
        ")\n",
        "train_time = time.time() - t0\n",
        "\n",
        "# 11. Evaluate & report\n",
        "t1 = time.time()\n",
        "loss, acc  = model.evaluate(X_test_feat, y_test, verbose=2)\n",
        "infer_time = time.time() - t1\n",
        "\n",
        "print(f\"\\nImproved Curvature+Orientation MLP on MNIST\")\n",
        "print(f\"Test Accuracy   : {acc*100:.2f}%\")\n",
        "print(f\"Training Time   : {train_time:.1f}s\")\n",
        "print(f\"Inference Time  : {infer_time:.1f}s for {X_test_feat.shape[0]} samples\")\n"
      ],
      "metadata": {
        "colab": {
          "base_uri": "https://localhost:8080/",
          "height": 1000,
          "referenced_widgets": [
            "12eed725bf504989861878600e573359",
            "70fac36ec88b4653bd3c9fad211db0c5",
            "5bc2839028a04bdbba8faaea23882a93",
            "b7d7d12234fd4393b386900a10a6962f",
            "99a3e3de879f4788b9d91e0897a5f2fa",
            "8626dba963674c6ea24481ad34a2bc1f",
            "da15e3accad04416af6b80bcf2755faa",
            "f2c2be60f6da40ec987d6221e3012068",
            "200113e3833f4fb9907bb1236b273aaa",
            "6d36696d1be04e88b38859ef1bbf9294",
            "b9a4444b9afd4f09a056eb1a02962a4d",
            "1c124c0ea46a4ea9946bf26c0b25d299",
            "bcbc7b4559084a01b142869d715539ce",
            "e9e0606ae0b34939a485be9d03265cb7",
            "99db6dd9013b4c8e8a632f82d4c1aebe",
            "6e7cf8872f54458a927da3b8cae4f570",
            "8c04ce1ffa0a4ac6a51dc2130acacc1c",
            "b0599a8671ef4adc9631f20bd6726413",
            "a9db6bbd985240f1babd687f33b2f473",
            "62a79b5f79a84127b892d6fefcb20203",
            "1a1f8fd96ac448828e184c336d88e098",
            "6a1507fe3dc349da99c83fd499a44d60",
            "b5903dcb078b44f1803f51364a4745ab",
            "2d2c3504707a4b8caf5cb5d6fdc1ae5f",
            "de935a3441274be19daf2c7ec45f2bcb",
            "d3812da666f241a9ad49e48d72a1f9b3",
            "c3204b974a1f46cda052225914016856",
            "f69bc2362a28426ba36ed96771515b56",
            "850b9be9ca9f4c828eda731d78f6a345",
            "6147e5f423c94b1b9e402e1be0155345",
            "89352e940c8a44798a2e26b30f676fc8",
            "a01d640d1ff0472c89a0237b7261bda5",
            "4cc3bd28578d4bdc97a495b910987b83",
            "6cce94b07f07450fb7768259ac49d2ca",
            "7969ab4770bf4192a4cc60a261ecd6ac",
            "0d7c895687434f6b8e8c0f0e031e6908",
            "0d384a31119540e88b884399531f6a38",
            "f8feb896dbf341029eee44b680366348",
            "5b20c9970d074ff88410e8a99398a124",
            "7ea5e60fb2784d50865b28eaef141df0",
            "5fa6d23bdff7488e8281ad47a0dcbe65",
            "e3561116040b47fc946367c5e1d1286d",
            "4287095e3411405c8839e8e26985dbcd",
            "a7554c6aac554469b34fcf308f2eab39",
            "23cce107eb444ca1a90f61207aac3344",
            "a082a4007fc34990b37fe88899c7fcba",
            "150d703e2a7e4ebda1451fbc66cf2e02",
            "7e39f6511d294a3abea48c9ac24c72a7",
            "9a08d21d59704f61885516154ae6f5ce",
            "7d4cb86e9ce0452f97c07e3e30056bee",
            "8704d1cfac9e4d9e96badf880f34b499",
            "f1fbb0eb4f7c40a7af8f021abcb4abf8",
            "492fe585ce65492ab8f25c6c0d45b517",
            "7e3a04471cbc48239e76547296cf3988",
            "252797e4d5f94c40970ffdadf150fed2",
            "25f2b3fce9514fc181c8d925de2d6e2a",
            "aaf0f424dc82453b8bf85d62d7041285",
            "9ea30434a46344d482361a6590e0f33a",
            "f98494d3328d4b158fa91ec1e5ce9cc4",
            "72b32eaccf7e41b482b96a925bd57d81",
            "038c81abc65a4182a5bc1bf8f4a4d52e",
            "fada60723b6a42228f2fdff4f5e5a1a3",
            "0125a44966ec4154a0de865b40332b94",
            "87f58786c17244c5baacc604c80fe995",
            "90c2c5b5fbb347afae5ebce83db09494",
            "2204e313a8b44f2db721b98716f7e2c8",
            "1e88a4bb5ab143d6b3d2f66d05784d9c",
            "b225637b4c724c139e44fcc54fa6e366",
            "6030ef9d728348c485bdb8892c526fe6",
            "ebc6091dacd2485085e60b1a056a0347",
            "70cfa9322c8849b8853f9050623eb6db",
            "91b258d503434f6fa8690b6b6f3ae3fe",
            "bdbd4f2f6d474c8295e87264fe05501d",
            "b43e84de8cf541279a2a7a8be0251ae8",
            "664db8cac29141d8b8e8a142322974b3",
            "f27b30b892e64ba4a18b5f2413318338",
            "62599b78dc174d6a9db1900540b30744",
            "476f37cd61af4e57bc0961a7f168dbb1",
            "5bacfdc7aad54129857949bfb6bbf538",
            "51e4beceaf9048efac304a1ff442d792",
            "25fa384187aa48c5970336f357b45502",
            "d6194899c64d41dd85a86d8068a2a350",
            "c06fc72abd6740d683a72a4b1c1ec458",
            "7868a51ec0df4e8d8d5aed33c744e0a9",
            "d4f2b06119be458ca78ea86e13b76700",
            "3db54958500f483c8b389745a0a077f1",
            "29efdc2c227a49fa9e639918adef6550",
            "dd15fa3720f5482a871cf37f0665990b"
          ]
        },
        "id": "govyidKZF_4D",
        "outputId": "35143a9f-2b02-42a7-e703-b87cf872bf9e"
      },
      "execution_count": null,
      "outputs": [
        {
          "output_type": "stream",
          "name": "stderr",
          "text": [
            "WARNING:absl:Variant folder /root/tensorflow_datasets/mnist/3.0.1 has no dataset_info.json\n"
          ]
        },
        {
          "output_type": "stream",
          "name": "stdout",
          "text": [
            "Downloading and preparing dataset Unknown size (download: Unknown size, generated: Unknown size, total: Unknown size) to /root/tensorflow_datasets/mnist/3.0.1...\n"
          ]
        },
        {
          "output_type": "display_data",
          "data": {
            "text/plain": [
              "Dl Completed...: 0 url [00:00, ? url/s]"
            ],
            "application/vnd.jupyter.widget-view+json": {
              "version_major": 2,
              "version_minor": 0,
              "model_id": "12eed725bf504989861878600e573359"
            }
          },
          "metadata": {}
        },
        {
          "output_type": "display_data",
          "data": {
            "text/plain": [
              "Dl Size...: 0 MiB [00:00, ? MiB/s]"
            ],
            "application/vnd.jupyter.widget-view+json": {
              "version_major": 2,
              "version_minor": 0,
              "model_id": "1c124c0ea46a4ea9946bf26c0b25d299"
            }
          },
          "metadata": {}
        },
        {
          "output_type": "display_data",
          "data": {
            "text/plain": [
              "Extraction completed...: 0 file [00:00, ? file/s]"
            ],
            "application/vnd.jupyter.widget-view+json": {
              "version_major": 2,
              "version_minor": 0,
              "model_id": "b5903dcb078b44f1803f51364a4745ab"
            }
          },
          "metadata": {}
        },
        {
          "output_type": "display_data",
          "data": {
            "text/plain": [
              "Generating splits...:   0%|          | 0/2 [00:00<?, ? splits/s]"
            ],
            "application/vnd.jupyter.widget-view+json": {
              "version_major": 2,
              "version_minor": 0,
              "model_id": "6cce94b07f07450fb7768259ac49d2ca"
            }
          },
          "metadata": {}
        },
        {
          "output_type": "display_data",
          "data": {
            "text/plain": [
              "Generating train examples...: 0 examples [00:00, ? examples/s]"
            ],
            "application/vnd.jupyter.widget-view+json": {
              "version_major": 2,
              "version_minor": 0,
              "model_id": "23cce107eb444ca1a90f61207aac3344"
            }
          },
          "metadata": {}
        },
        {
          "output_type": "display_data",
          "data": {
            "text/plain": [
              "Shuffling /root/tensorflow_datasets/mnist/incomplete.XYJR1B_3.0.1/mnist-train.tfrecord*...:   0%|          | 0…"
            ],
            "application/vnd.jupyter.widget-view+json": {
              "version_major": 2,
              "version_minor": 0,
              "model_id": "25f2b3fce9514fc181c8d925de2d6e2a"
            }
          },
          "metadata": {}
        },
        {
          "output_type": "display_data",
          "data": {
            "text/plain": [
              "Generating test examples...: 0 examples [00:00, ? examples/s]"
            ],
            "application/vnd.jupyter.widget-view+json": {
              "version_major": 2,
              "version_minor": 0,
              "model_id": "1e88a4bb5ab143d6b3d2f66d05784d9c"
            }
          },
          "metadata": {}
        },
        {
          "output_type": "display_data",
          "data": {
            "text/plain": [
              "Shuffling /root/tensorflow_datasets/mnist/incomplete.XYJR1B_3.0.1/mnist-test.tfrecord*...:   0%|          | 0/…"
            ],
            "application/vnd.jupyter.widget-view+json": {
              "version_major": 2,
              "version_minor": 0,
              "model_id": "476f37cd61af4e57bc0961a7f168dbb1"
            }
          },
          "metadata": {}
        },
        {
          "output_type": "stream",
          "name": "stdout",
          "text": [
            "Dataset mnist downloaded and prepared to /root/tensorflow_datasets/mnist/3.0.1. Subsequent calls will reuse this data.\n"
          ]
        },
        {
          "output_type": "stream",
          "name": "stderr",
          "text": [
            "Extracting features: 100%|██████████| 56000/56000 [00:09<00:00, 5716.26it/s]\n",
            "Extracting features: 100%|██████████| 14000/14000 [00:02<00:00, 6642.48it/s]\n"
          ]
        },
        {
          "output_type": "stream",
          "name": "stdout",
          "text": [
            "Epoch 1/100\n",
            "394/394 - 84s - 213ms/step - accuracy: 0.8545 - loss: 0.4619 - val_accuracy: 0.9305 - val_loss: 0.2272 - learning_rate: 1.0000e-03\n",
            "Epoch 2/100\n",
            "394/394 - 83s - 212ms/step - accuracy: 0.9417 - loss: 0.1875 - val_accuracy: 0.9395 - val_loss: 0.1984 - learning_rate: 1.0000e-03\n",
            "Epoch 3/100\n",
            "394/394 - 79s - 202ms/step - accuracy: 0.9577 - loss: 0.1331 - val_accuracy: 0.9489 - val_loss: 0.1792 - learning_rate: 1.0000e-03\n",
            "Epoch 4/100\n",
            "394/394 - 84s - 212ms/step - accuracy: 0.9670 - loss: 0.1045 - val_accuracy: 0.9568 - val_loss: 0.1479 - learning_rate: 1.0000e-03\n",
            "Epoch 5/100\n",
            "394/394 - 82s - 208ms/step - accuracy: 0.9733 - loss: 0.0845 - val_accuracy: 0.9602 - val_loss: 0.1426 - learning_rate: 1.0000e-03\n",
            "Epoch 6/100\n",
            "394/394 - 82s - 207ms/step - accuracy: 0.9764 - loss: 0.0729 - val_accuracy: 0.9539 - val_loss: 0.1652 - learning_rate: 1.0000e-03\n",
            "Epoch 7/100\n",
            "394/394 - 80s - 203ms/step - accuracy: 0.9789 - loss: 0.0656 - val_accuracy: 0.9602 - val_loss: 0.1539 - learning_rate: 1.0000e-03\n",
            "Epoch 8/100\n",
            "394/394 - 81s - 207ms/step - accuracy: 0.9828 - loss: 0.0510 - val_accuracy: 0.9629 - val_loss: 0.1325 - learning_rate: 1.0000e-03\n",
            "Epoch 9/100\n",
            "394/394 - 79s - 199ms/step - accuracy: 0.9852 - loss: 0.0451 - val_accuracy: 0.9607 - val_loss: 0.1511 - learning_rate: 1.0000e-03\n",
            "Epoch 10/100\n",
            "394/394 - 80s - 204ms/step - accuracy: 0.9848 - loss: 0.0454 - val_accuracy: 0.9655 - val_loss: 0.1420 - learning_rate: 1.0000e-03\n",
            "Epoch 11/100\n",
            "394/394 - 82s - 208ms/step - accuracy: 0.9872 - loss: 0.0390 - val_accuracy: 0.9614 - val_loss: 0.1498 - learning_rate: 1.0000e-03\n",
            "Epoch 12/100\n",
            "\n",
            "Epoch 12: ReduceLROnPlateau reducing learning rate to 0.0005000000237487257.\n",
            "394/394 - 80s - 203ms/step - accuracy: 0.9873 - loss: 0.0374 - val_accuracy: 0.9630 - val_loss: 0.1438 - learning_rate: 1.0000e-03\n",
            "Epoch 13/100\n",
            "394/394 - 83s - 211ms/step - accuracy: 0.9924 - loss: 0.0236 - val_accuracy: 0.9684 - val_loss: 0.1225 - learning_rate: 5.0000e-04\n",
            "Epoch 14/100\n",
            "394/394 - 79s - 200ms/step - accuracy: 0.9937 - loss: 0.0189 - val_accuracy: 0.9700 - val_loss: 0.1244 - learning_rate: 5.0000e-04\n",
            "Epoch 15/100\n",
            "394/394 - 83s - 212ms/step - accuracy: 0.9955 - loss: 0.0136 - val_accuracy: 0.9686 - val_loss: 0.1323 - learning_rate: 5.0000e-04\n",
            "Epoch 16/100\n",
            "394/394 - 84s - 214ms/step - accuracy: 0.9953 - loss: 0.0141 - val_accuracy: 0.9695 - val_loss: 0.1306 - learning_rate: 5.0000e-04\n",
            "Epoch 17/100\n",
            "\n",
            "Epoch 17: ReduceLROnPlateau reducing learning rate to 0.0002500000118743628.\n",
            "394/394 - 140s - 354ms/step - accuracy: 0.9955 - loss: 0.0141 - val_accuracy: 0.9691 - val_loss: 0.1401 - learning_rate: 5.0000e-04\n",
            "Epoch 18/100\n",
            "394/394 - 79s - 200ms/step - accuracy: 0.9966 - loss: 0.0097 - val_accuracy: 0.9698 - val_loss: 0.1350 - learning_rate: 2.5000e-04\n",
            "Epoch 19/100\n",
            "394/394 - 83s - 210ms/step - accuracy: 0.9974 - loss: 0.0081 - val_accuracy: 0.9711 - val_loss: 0.1297 - learning_rate: 2.5000e-04\n",
            "Epoch 20/100\n",
            "394/394 - 82s - 209ms/step - accuracy: 0.9974 - loss: 0.0080 - val_accuracy: 0.9712 - val_loss: 0.1312 - learning_rate: 2.5000e-04\n",
            "Epoch 21/100\n",
            "\n",
            "Epoch 21: ReduceLROnPlateau reducing learning rate to 0.0001250000059371814.\n",
            "394/394 - 80s - 203ms/step - accuracy: 0.9973 - loss: 0.0077 - val_accuracy: 0.9696 - val_loss: 0.1408 - learning_rate: 2.5000e-04\n",
            "Epoch 22/100\n",
            "394/394 - 83s - 210ms/step - accuracy: 0.9978 - loss: 0.0071 - val_accuracy: 0.9711 - val_loss: 0.1363 - learning_rate: 1.2500e-04\n",
            "Epoch 23/100\n",
            "394/394 - 83s - 211ms/step - accuracy: 0.9987 - loss: 0.0047 - val_accuracy: 0.9712 - val_loss: 0.1399 - learning_rate: 1.2500e-04\n",
            "Epoch 24/100\n",
            "394/394 - 82s - 208ms/step - accuracy: 0.9981 - loss: 0.0059 - val_accuracy: 0.9718 - val_loss: 0.1398 - learning_rate: 1.2500e-04\n",
            "Epoch 25/100\n",
            "\n",
            "Epoch 25: ReduceLROnPlateau reducing learning rate to 6.25000029685907e-05.\n",
            "394/394 - 81s - 207ms/step - accuracy: 0.9985 - loss: 0.0049 - val_accuracy: 0.9705 - val_loss: 0.1384 - learning_rate: 1.2500e-04\n",
            "Epoch 26/100\n",
            "394/394 - 77s - 196ms/step - accuracy: 0.9984 - loss: 0.0048 - val_accuracy: 0.9707 - val_loss: 0.1371 - learning_rate: 6.2500e-05\n",
            "Epoch 27/100\n",
            "394/394 - 84s - 213ms/step - accuracy: 0.9986 - loss: 0.0043 - val_accuracy: 0.9714 - val_loss: 0.1375 - learning_rate: 6.2500e-05\n",
            "Epoch 28/100\n",
            "394/394 - 80s - 204ms/step - accuracy: 0.9990 - loss: 0.0031 - val_accuracy: 0.9725 - val_loss: 0.1371 - learning_rate: 6.2500e-05\n",
            "Epoch 29/100\n",
            "\n",
            "Epoch 29: ReduceLROnPlateau reducing learning rate to 3.125000148429535e-05.\n",
            "394/394 - 82s - 209ms/step - accuracy: 0.9990 - loss: 0.0037 - val_accuracy: 0.9732 - val_loss: 0.1376 - learning_rate: 6.2500e-05\n",
            "Epoch 30/100\n",
            "394/394 - 81s - 206ms/step - accuracy: 0.9988 - loss: 0.0035 - val_accuracy: 0.9729 - val_loss: 0.1360 - learning_rate: 3.1250e-05\n",
            "Epoch 31/100\n",
            "394/394 - 78s - 197ms/step - accuracy: 0.9992 - loss: 0.0029 - val_accuracy: 0.9737 - val_loss: 0.1354 - learning_rate: 3.1250e-05\n",
            "Epoch 32/100\n",
            "394/394 - 84s - 214ms/step - accuracy: 0.9988 - loss: 0.0034 - val_accuracy: 0.9730 - val_loss: 0.1353 - learning_rate: 3.1250e-05\n",
            "Epoch 33/100\n",
            "\n",
            "Epoch 33: ReduceLROnPlateau reducing learning rate to 1.5625000742147677e-05.\n",
            "394/394 - 84s - 213ms/step - accuracy: 0.9991 - loss: 0.0028 - val_accuracy: 0.9725 - val_loss: 0.1358 - learning_rate: 3.1250e-05\n",
            "Epoch 34/100\n",
            "394/394 - 80s - 204ms/step - accuracy: 0.9991 - loss: 0.0028 - val_accuracy: 0.9723 - val_loss: 0.1368 - learning_rate: 1.5625e-05\n",
            "Epoch 35/100\n",
            "394/394 - 78s - 199ms/step - accuracy: 0.9989 - loss: 0.0031 - val_accuracy: 0.9729 - val_loss: 0.1375 - learning_rate: 1.5625e-05\n",
            "Epoch 36/100\n",
            "394/394 - 77s - 196ms/step - accuracy: 0.9993 - loss: 0.0024 - val_accuracy: 0.9723 - val_loss: 0.1374 - learning_rate: 1.5625e-05\n",
            "Epoch 37/100\n",
            "\n",
            "Epoch 37: ReduceLROnPlateau reducing learning rate to 7.812500371073838e-06.\n",
            "394/394 - 83s - 211ms/step - accuracy: 0.9991 - loss: 0.0028 - val_accuracy: 0.9725 - val_loss: 0.1372 - learning_rate: 1.5625e-05\n",
            "Epoch 38/100\n",
            "394/394 - 84s - 214ms/step - accuracy: 0.9993 - loss: 0.0024 - val_accuracy: 0.9729 - val_loss: 0.1367 - learning_rate: 7.8125e-06\n",
            "Epoch 39/100\n",
            "394/394 - 79s - 201ms/step - accuracy: 0.9990 - loss: 0.0028 - val_accuracy: 0.9725 - val_loss: 0.1369 - learning_rate: 7.8125e-06\n",
            "Epoch 39: early stopping\n",
            "Restoring model weights from the end of the best epoch: 31.\n",
            "438/438 - 8s - 19ms/step - accuracy: 0.9714 - loss: 0.1527\n",
            "\n",
            "Improved Curvature+Orientation MLP on MNIST\n",
            "Test Accuracy   : 97.14%\n",
            "Training Time   : 3237.4s\n",
            "Inference Time  : 8.9s for 14000 samples\n"
          ]
        }
      ]
    }
  ],
  "metadata": {
    "colab": {
      "provenance": [],
      "include_colab_link": true
    },
    "kernelspec": {
      "display_name": "Python 3",
      "name": "python3"
    },
    "language_info": {
      "name": "python"
    }
  },
  "nbformat": 4,
  "nbformat_minor": 0
}